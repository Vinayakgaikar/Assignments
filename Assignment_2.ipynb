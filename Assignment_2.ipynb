{
 "cells": [
  {
   "cell_type": "code",
   "execution_count": null,
   "id": "55ee0065",
   "metadata": {},
   "outputs": [],
   "source": [
    "#Q1\n",
    "\n",
    "There are two data types : true and false\n",
    "    where true=1 and false=2\n",
    "It can be written as;\n",
    "True \n",
    "False"
   ]
  },
  {
   "cell_type": "code",
   "execution_count": null,
   "id": "ae1a1151",
   "metadata": {},
   "outputs": [],
   "source": [
    "#Q2\n",
    "\n",
    "AND , OR and NOT this are the boolen operators"
   ]
  },
  {
   "cell_type": "code",
   "execution_count": null,
   "id": "59824536",
   "metadata": {},
   "outputs": [],
   "source": [
    "#Q3\n",
    "\n",
    "A B AND  OR NAND NOR\n",
    "0 0  0    0  1    1\n",
    "0 1  0    1  1    0\n",
    "1 0  0    1  1    0\n",
    "1 1  1    1  0    0"
   ]
  },
  {
   "cell_type": "code",
   "execution_count": null,
   "id": "1c48b2d6",
   "metadata": {},
   "outputs": [],
   "source": [
    "#Q4\n",
    "\n",
    "(5 > 4) and (3 == 5) => False\n",
    "not (5 > 4)          => False\n",
    "(5 > 4) or (3 == 5)  => True\n",
    "not((5 > 4) or (3 == 5))=>False\n",
    "(True and True) and (True == False) => False\n",
    "(not False) or (not True)   => True"
   ]
  },
  {
   "cell_type": "code",
   "execution_count": null,
   "id": "f60b3509",
   "metadata": {},
   "outputs": [],
   "source": [
    "#Q5\n",
    "\n",
    "equal to : ==\n",
    "not equal to : != \n",
    "greater than  : > \n",
    "greater than or equal to  : >= \n",
    "less than   :  <\n",
    "less than or equal to  : <="
   ]
  },
  {
   "cell_type": "code",
   "execution_count": null,
   "id": "3e484c1f",
   "metadata": {},
   "outputs": [],
   "source": [
    "#Q6\n",
    "\n",
    "(assignment operator : = ) => It is used for assigning the value to a variable. i.e. a=\"vinayak\"\n",
    "(equal to  : == )  =>   It is used for comparing two values.  i.e.  5==4 => False"
   ]
  },
  {
   "cell_type": "code",
   "execution_count": null,
   "id": "1aa07943",
   "metadata": {},
   "outputs": [],
   "source": [
    "#Q7\n",
    "\n",
    "spam = 0\n",
    "if spam == 10:\n",
    "    print('eggs')\n",
    "    if spam > 5:\n",
    "        print('bacon')\n",
    "    else:\n",
    "        print('ham')\n",
    "        print('spam')\n",
    "print('spam')\n",
    "    "
   ]
  },
  {
   "cell_type": "code",
   "execution_count": null,
   "id": "9ebfef26",
   "metadata": {},
   "outputs": [],
   "source": [
    "#Q8\n",
    "\n",
    "spam = int(input())\n",
    "\n",
    "if spam == 1:\n",
    "    print(\"Hello\")\n",
    "elif spam == 2:\n",
    "    print(\"Howdy\")\n",
    "else:\n",
    "    print(\"Greetings!\")"
   ]
  },
  {
   "cell_type": "code",
   "execution_count": null,
   "id": "eda58dd8",
   "metadata": {},
   "outputs": [],
   "source": [
    "#Q9\n",
    "\n",
    "Ctrl + C"
   ]
  },
  {
   "cell_type": "code",
   "execution_count": null,
   "id": "2bb23d6a",
   "metadata": {},
   "outputs": [],
   "source": [
    "#Q10\n",
    "\n",
    "The Python break statement stops the loop in which the statement is placed. \n",
    "A Python continue statement skips a single iteration in a loop."
   ]
  },
  {
   "cell_type": "code",
   "execution_count": null,
   "id": "4824db13",
   "metadata": {},
   "outputs": [],
   "source": [
    "#Q11\n",
    "\n",
    "range(10)  :-  In this statement we have to set end point and it was starting from 0 .\n",
    "range(0,10) :-  in this statement we have to decide not only where the series of numbers stops but also where it starts.\n",
    "range(0,10,1) :- In this statement we have to decide start and end point and also decide how big the difference will be between\n",
    "                 one number and the next. "
   ]
  },
  {
   "cell_type": "code",
   "execution_count": 1,
   "id": "de1abf70",
   "metadata": {},
   "outputs": [
    {
     "name": "stdout",
     "output_type": "stream",
     "text": [
      "1\n",
      "2\n",
      "3\n",
      "4\n",
      "5\n",
      "6\n",
      "7\n",
      "8\n",
      "9\n",
      "10\n"
     ]
    }
   ],
   "source": [
    "#Q12\n",
    "\n",
    "for i in range(1,11):\n",
    "    print(i)\n",
    "\n",
    "a=1\n",
    "while a>0 and a <=10 :\n",
    "    print(a)\n",
    "    a=a+1\n",
    "    "
   ]
  },
  {
   "cell_type": "code",
   "execution_count": null,
   "id": "de017ec7",
   "metadata": {},
   "outputs": [],
   "source": [
    "#Q13\n",
    "\n",
    "spam.bacon()"
   ]
  }
 ],
 "metadata": {
  "kernelspec": {
   "display_name": "Python 3",
   "language": "python",
   "name": "python3"
  },
  "language_info": {
   "codemirror_mode": {
    "name": "ipython",
    "version": 3
   },
   "file_extension": ".py",
   "mimetype": "text/x-python",
   "name": "python",
   "nbconvert_exporter": "python",
   "pygments_lexer": "ipython3",
   "version": "3.8.8"
  }
 },
 "nbformat": 4,
 "nbformat_minor": 5
}
