{
 "cells": [
  {
   "cell_type": "code",
   "execution_count": null,
   "id": "734e9124",
   "metadata": {},
   "outputs": [],
   "source": [
    "#Q1\n",
    "[] means empty list"
   ]
  },
  {
   "cell_type": "code",
   "execution_count": null,
   "id": "edf99952",
   "metadata": {},
   "outputs": [],
   "source": [
    "#Q2\n",
    "\n",
    "spam =[2, 4, 6, 8, 10]\n",
    "spam[3]=\"hello\""
   ]
  },
  {
   "cell_type": "code",
   "execution_count": null,
   "id": "f1dccf0a",
   "metadata": {},
   "outputs": [],
   "source": [
    "\n",
    "spam= ['a','b','c','d']\n",
    "\n",
    "#Q3\n",
    "spam[int(int('3'* 2) / 11)]\n",
    "output:- 'd'\n",
    "\n"
   ]
  },
  {
   "cell_type": "code",
   "execution_count": null,
   "id": "ac678530",
   "metadata": {},
   "outputs": [],
   "source": [
    "#Q4\n",
    "spam[-1]\n",
    "output:- 'd'\n",
    "    \n"
   ]
  },
  {
   "cell_type": "code",
   "execution_count": null,
   "id": "65f06fca",
   "metadata": {},
   "outputs": [],
   "source": [
    "#Q5\n",
    "spam[:2]\n",
    "output:- ['a', 'b']"
   ]
  },
  {
   "cell_type": "code",
   "execution_count": null,
   "id": "4a7ea31c",
   "metadata": {},
   "outputs": [],
   "source": [
    "bacon=[3.14,'cat',11,'cat',True]\n",
    "\n",
    "#Q6\n",
    "bacon.index('cat')\n",
    "output:- 1"
   ]
  },
  {
   "cell_type": "code",
   "execution_count": null,
   "id": "50c5319d",
   "metadata": {},
   "outputs": [],
   "source": [
    "#Q7\n",
    "bacon.append(99)\n",
    "output:- [3.14, 'cat', 11, 'cat', True, 99]  =>add value 99 at end of the list"
   ]
  },
  {
   "cell_type": "code",
   "execution_count": null,
   "id": "e2629336",
   "metadata": {},
   "outputs": [],
   "source": [
    "#Q8\n",
    "bacon.remove('cat')\n",
    "output:- [3.14, 11, 'cat', True, 99]  =>  remove varible 'cat'"
   ]
  },
  {
   "cell_type": "code",
   "execution_count": null,
   "id": "bb0a97b7",
   "metadata": {},
   "outputs": [],
   "source": [
    "#Q9\n",
    "\n",
    "The operator for list concatenation is +, while the operator for replication is *."
   ]
  },
  {
   "cell_type": "code",
   "execution_count": null,
   "id": "4d805ab8",
   "metadata": {},
   "outputs": [],
   "source": [
    "#Q10\n",
    "\n",
    "The only difference between append() and insert() is that insert function allows us to add a specific element\n",
    "at a specified index of the list and append() where we can add the element only at end of the list."
   ]
  },
  {
   "cell_type": "code",
   "execution_count": null,
   "id": "9ac6458f",
   "metadata": {},
   "outputs": [],
   "source": [
    "#Q11\n",
    "\n",
    "remove() and pop()"
   ]
  },
  {
   "cell_type": "code",
   "execution_count": null,
   "id": "5a1f24e8",
   "metadata": {},
   "outputs": [],
   "source": [
    "#Q12\n",
    "\n",
    "List and string both are used to store value and both are sequence."
   ]
  },
  {
   "cell_type": "code",
   "execution_count": null,
   "id": "499c468d",
   "metadata": {},
   "outputs": [],
   "source": [
    "#Q13\n",
    "\n",
    "The main difference between tuples and list is tuples are immutable objects the lists are mutable. \n",
    "tuples are close in () and lists are close in []."
   ]
  },
  {
   "cell_type": "code",
   "execution_count": 4,
   "id": "13976b3a",
   "metadata": {},
   "outputs": [],
   "source": [
    "#Q14\n",
    "\n",
    "t=(42,)"
   ]
  },
  {
   "cell_type": "code",
   "execution_count": null,
   "id": "42de5acf",
   "metadata": {},
   "outputs": [],
   "source": [
    "#Q15\n",
    "\n",
    "1) To get list values in tuple form use => tuple(list_name)\n",
    "2) to get tuple values in list form use => list(tuple_name)"
   ]
  },
  {
   "cell_type": "code",
   "execution_count": null,
   "id": "44c192bb",
   "metadata": {},
   "outputs": [],
   "source": [
    "#Q16\n",
    "\n",
    "Variables will contain references to list values rather than list values themselves.\n",
    "But for strings and integer values, variables simply contain the string or integer value."
   ]
  },
  {
   "cell_type": "code",
   "execution_count": null,
   "id": "1105e5f3",
   "metadata": {},
   "outputs": [],
   "source": [
    "#Q17\n",
    "\n",
    "shallow copy :-\n",
    "    1)shallow copy can be created without import \n",
    "    2) shallow copy is faster\n",
    "    3) efficient use of memory\n",
    "    \n",
    "deep copy:-\n",
    "    1) deep copy need to import copy module and use deepcopy() method\n",
    "    2)deep copy is slower\n",
    "    3)not efficient in memory usage"
   ]
  }
 ],
 "metadata": {
  "kernelspec": {
   "display_name": "Python 3",
   "language": "python",
   "name": "python3"
  },
  "language_info": {
   "codemirror_mode": {
    "name": "ipython",
    "version": 3
   },
   "file_extension": ".py",
   "mimetype": "text/x-python",
   "name": "python",
   "nbconvert_exporter": "python",
   "pygments_lexer": "ipython3",
   "version": "3.8.8"
  }
 },
 "nbformat": 4,
 "nbformat_minor": 5
}
