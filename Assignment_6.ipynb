{
 "cells": [
  {
   "cell_type": "code",
   "execution_count": null,
   "id": "268eefb0",
   "metadata": {},
   "outputs": [],
   "source": [
    "#Q1 : What are escape characters, and how do you use them?\n",
    "\n",
    "In Python the backslash \"\\\" is  called the \"escape\" character. \n",
    "It is used in representing certain whitespace characters: \"\\t\" is a tab, \"\\n\" is a newline, and \"\\r\" is a carriage return."
   ]
  },
  {
   "cell_type": "code",
   "execution_count": null,
   "id": "eda48e06",
   "metadata": {},
   "outputs": [],
   "source": [
    "#Q2 : What do the escape characters n and t stand for?\n",
    "\n",
    "\"\\n\" is  stand for Newline\n",
    "\"\\t\" is stand for Horizontal tab"
   ]
  },
  {
   "cell_type": "code",
   "execution_count": null,
   "id": "f9871ffa",
   "metadata": {},
   "outputs": [],
   "source": [
    "#Q3 : What is the way to include backslash characters in a string?\n",
    "\n",
    "Use the syntax \"\\\\\" within the string literal to represent a single backslash.\n"
   ]
  },
  {
   "cell_type": "code",
   "execution_count": null,
   "id": "68746ca6",
   "metadata": {},
   "outputs": [],
   "source": [
    "#Q4:The string value \"Howl's Moving Castle\" is a valid string.Why isn't it a problem that the single quote character in the word Howl's isn't escaped?\n",
    "\n",
    "\"The single quote in Howl's is fine because you've used double quotes to mark the beginning and end of the string.\"\n"
   ]
  },
  {
   "cell_type": "code",
   "execution_count": 2,
   "id": "33a64616",
   "metadata": {},
   "outputs": [
    {
     "name": "stdout",
     "output_type": "stream",
     "text": [
      "India is my \n",
      "country\n"
     ]
    }
   ],
   "source": [
    "#Q5 : How do you write a string of newlines if you don't want to use the n character?\n",
    "\n",
    "\"Multiline string allow you to use newlines in string without the \\n escape character\"\n",
    "\n",
    "a = '''India is my \n",
    "country'''\n",
    "print(a)"
   ]
  },
  {
   "cell_type": "code",
   "execution_count": null,
   "id": "81fb1446",
   "metadata": {},
   "outputs": [],
   "source": [
    "#Q6 : What are the values of the given expressions ?\n",
    "\n",
    "'Hello, world!'[1] -> 'e'\n",
    "'Hello, world!'[0:5] -> 'Hello'\n",
    "'Hello, world!'[:5] -> 'Hello'\n",
    "'Hello, world!'[3:] -> 'lo, world!'"
   ]
  },
  {
   "cell_type": "code",
   "execution_count": null,
   "id": "e83aa2d0",
   "metadata": {},
   "outputs": [],
   "source": [
    "#Q7 : What are the values of the following expressions ?\n",
    "\n",
    "'Hello'.upper() -> 'HELLO'\n",
    "'Hello'.upper().isupper() -> True\n",
    "'Hello'.upper().lower() -> 'hello'"
   ]
  },
  {
   "cell_type": "code",
   "execution_count": null,
   "id": "be16dcca",
   "metadata": {},
   "outputs": [],
   "source": [
    "#Q8 : What are the values of the following expressions ?\n",
    "\n",
    "'Remember, remember, the fifith of July.'.split() -> ['Remember,', 'remember,', 'the', 'fifith', 'of', 'July.']\n",
    "'-'.join('There can only one'.split()) -> 'There-can-only-one'"
   ]
  },
  {
   "cell_type": "code",
   "execution_count": null,
   "id": "73d76ed7",
   "metadata": {},
   "outputs": [],
   "source": [
    "#Q9 : What are the methods for right-justifying, left-justifying and centering a string ?\n",
    "\n",
    "The rjust(),ljust(),center() string methods, respectively."
   ]
  },
  {
   "cell_type": "code",
   "execution_count": null,
   "id": "4612df96",
   "metadata": {},
   "outputs": [],
   "source": [
    "#Q10 : What is the best way to remove whitespace characters from the start or end ?\n",
    "The lstrip() and rstrip() methods remove whitesapce characters from the left and right ends of a string respectively.\n",
    "Also,stip is used to remove whitespace characters from the start to end.\n"
   ]
  },
  {
   "cell_type": "code",
   "execution_count": null,
   "id": "e50a1d47",
   "metadata": {},
   "outputs": [],
   "source": []
  }
 ],
 "metadata": {
  "kernelspec": {
   "display_name": "Python 3",
   "language": "python",
   "name": "python3"
  },
  "language_info": {
   "codemirror_mode": {
    "name": "ipython",
    "version": 3
   },
   "file_extension": ".py",
   "mimetype": "text/x-python",
   "name": "python",
   "nbconvert_exporter": "python",
   "pygments_lexer": "ipython3",
   "version": "3.8.8"
  }
 },
 "nbformat": 4,
 "nbformat_minor": 5
}
