{
 "cells": [
  {
   "cell_type": "markdown",
   "metadata": {},
   "source": [
    "Q1 Add the current date to the text file today.txt as a string."
   ]
  },
  {
   "cell_type": "code",
   "execution_count": 2,
   "metadata": {},
   "outputs": [
    {
     "data": {
      "text/plain": [
       "'2022-06-07'"
      ]
     },
     "execution_count": 2,
     "metadata": {},
     "output_type": "execute_result"
    }
   ],
   "source": [
    "import datetime\n",
    "from datetime import date\n",
    "now = date.today()\n",
    "cur_date = now.isoformat()\n",
    "cur_date"
   ]
  },
  {
   "cell_type": "code",
   "execution_count": 4,
   "metadata": {},
   "outputs": [],
   "source": [
    "with open('today.txt','w') as file:\n",
    "    file.write(cur_date)"
   ]
  },
  {
   "cell_type": "markdown",
   "metadata": {},
   "source": [
    "Q2 Read the text file today.txt into the string today_string"
   ]
  },
  {
   "cell_type": "code",
   "execution_count": 5,
   "metadata": {},
   "outputs": [
    {
     "data": {
      "text/plain": [
       "'2022-06-07'"
      ]
     },
     "execution_count": 5,
     "metadata": {},
     "output_type": "execute_result"
    }
   ],
   "source": [
    "with open('today.txt','r') as file:\n",
    "    today_string = file.read()\n",
    "today_string"
   ]
  },
  {
   "cell_type": "markdown",
   "metadata": {},
   "source": [
    "Q3 Parse the date from today_string."
   ]
  },
  {
   "cell_type": "code",
   "execution_count": 6,
   "metadata": {},
   "outputs": [
    {
     "data": {
      "text/plain": [
       "datetime.datetime(2022, 6, 7, 0, 0)"
      ]
     },
     "execution_count": 6,
     "metadata": {},
     "output_type": "execute_result"
    }
   ],
   "source": [
    "from datetime import datetime\n",
    "format = '%Y-%m-%d'\n",
    "datetime.strptime(today_string,format)"
   ]
  },
  {
   "cell_type": "markdown",
   "metadata": {},
   "source": [
    "Q4 List the files in your current directory"
   ]
  },
  {
   "cell_type": "code",
   "execution_count": 7,
   "metadata": {},
   "outputs": [
    {
     "data": {
      "text/plain": [
       "['-1.14-windows.xml',\n",
       " '.AdvertisingPopup',\n",
       " '.android',\n",
       " '.astropy',\n",
       " '.conda',\n",
       " '.cufflinks',\n",
       " '.idlerc',\n",
       " '.ipynb_checkpoints',\n",
       " '.ipython',\n",
       " '.jupyter',\n",
       " '.Ld2VirtualBox',\n",
       " '.matplotlib',\n",
       " '.MemuHyperv',\n",
       " '.QtWebEngineProcess',\n",
       " '.spss',\n",
       " '3D Objects',\n",
       " 'anaconda3',\n",
       " 'annual-enterprise-survey-2020-financial-year-provisional-size-bands-csv.csv',\n",
       " 'AppData',\n",
       " 'Application Data',\n",
       " 'Assigment 1.ipynb',\n",
       " 'Assigment 2.ipynb',\n",
       " 'Assigment 6.ipynb',\n",
       " 'Assigment.2',\n",
       " 'Assigment8.ipynb',\n",
       " 'Assigmnent 9.ipynb',\n",
       " 'Assigmnet 5.ipynb',\n",
       " 'Assigmnrnt 10.ipynb',\n",
       " 'Assignment 11.ipynb',\n",
       " 'Assignment 12.ipynb',\n",
       " 'Assignment 13.ipynb',\n",
       " 'Assignment 14.ipynb',\n",
       " 'Assignment 15.ipynb',\n",
       " 'Assignment 16.ipynb',\n",
       " 'Assignment 17.ipynb',\n",
       " 'Assignment 18.ipynb',\n",
       " 'Assignment 19.ipynb',\n",
       " 'Assignment 20.ipynb',\n",
       " 'Assignment 21.ipynb',\n",
       " 'Assignment 3.ipynb',\n",
       " 'Assignment 4.ipynb',\n",
       " 'Assignment 7.ipynb',\n",
       " 'books.csv',\n",
       " 'books.db',\n",
       " 'Chegg Payment.csv',\n",
       " 'Contacts',\n",
       " 'Cookies',\n",
       " 'Dec21 lec.ipynb',\n",
       " 'Decision tree.ipynb',\n",
       " 'Desktop',\n",
       " 'Documents',\n",
       " 'Downloads',\n",
       " 'ellipse.jpg',\n",
       " 'Exception handling.ipynb',\n",
       " 'Favorites',\n",
       " 'For loop.ipynb',\n",
       " 'Function.ipynb',\n",
       " 'graph1.ipynb',\n",
       " 'Graphs.ipynb',\n",
       " 'if function .ipynb',\n",
       " 'IMG_20211002_131136.jpg',\n",
       " 'IntelGraphicsProfiles',\n",
       " 'key1',\n",
       " 'Links',\n",
       " 'Local Settings',\n",
       " 'Machine Learning.ipynb',\n",
       " 'ML - task.ipynb',\n",
       " 'ML.ipynb',\n",
       " 'mongodb class 1.ipynb',\n",
       " 'Music',\n",
       " 'My Documents',\n",
       " 'MyFile.txt',\n",
       " 'NBA.csv',\n",
       " 'NetHood',\n",
       " 'NTUSER.DAT',\n",
       " 'ntuser.dat.LOG1',\n",
       " 'ntuser.dat.LOG2',\n",
       " 'NTUSER.DAT{84fd283e-69d7-11eb-a2e9-dc41a9c5b7f4}.TM.blf',\n",
       " 'NTUSER.DAT{84fd283e-69d7-11eb-a2e9-dc41a9c5b7f4}.TMContainer00000000000000000001.regtrans-ms',\n",
       " 'NTUSER.DAT{84fd283e-69d7-11eb-a2e9-dc41a9c5b7f4}.TMContainer00000000000000000002.regtrans-ms',\n",
       " 'NTUSER.DAT{9132952b-7d87-11eb-a2ee-dc41a9c5b7f4}.TM.blf',\n",
       " 'NTUSER.DAT{9132952b-7d87-11eb-a2ee-dc41a9c5b7f4}.TMContainer00000000000000000001.regtrans-ms',\n",
       " 'NTUSER.DAT{9132952b-7d87-11eb-a2ee-dc41a9c5b7f4}.TMContainer00000000000000000002.regtrans-ms',\n",
       " 'ntuser.ini',\n",
       " 'Numpy 2.ipynb',\n",
       " 'Numpy.ipynb',\n",
       " 'OneDrive',\n",
       " 'pandas 2.ipynb',\n",
       " 'pandas.ipynb',\n",
       " 'Pandas1.ipynb',\n",
       " 'pgm.asv',\n",
       " 'Pictures',\n",
       " 'Postman',\n",
       " 'PrintHood',\n",
       " 'PycharmProjects',\n",
       " 'python basic.ipynb',\n",
       " 'ram.csv',\n",
       " 'ram.txt',\n",
       " 'ramdj.ipynb',\n",
       " 'Recent',\n",
       " 'Saved Games',\n",
       " 'seaborn-data',\n",
       " 'Searches',\n",
       " 'SendTo',\n",
       " 'SQL.ipynb',\n",
       " 'Start Menu',\n",
       " 'Templates',\n",
       " 'test.py',\n",
       " 'test.txt',\n",
       " 'test1.py',\n",
       " 'test1.py.bak',\n",
       " 'three',\n",
       " 'today.txt',\n",
       " 'triangles.ipynb',\n",
       " 'Untitled1.ipynb',\n",
       " 'Videos',\n",
       " 'WA_Fn-UseC_-HR-Employee-Attrition.csv',\n",
       " 'WA_Fn-UseC_-HR-Employee-Attrition1.csv']"
      ]
     },
     "execution_count": 7,
     "metadata": {},
     "output_type": "execute_result"
    }
   ],
   "source": [
    "import os\n",
    "os.listdir('.')"
   ]
  },
  {
   "cell_type": "markdown",
   "metadata": {},
   "source": [
    "Q5 Create a list of all of the files in your parent directory (minimum five files should be available)."
   ]
  },
  {
   "cell_type": "code",
   "execution_count": 10,
   "metadata": {},
   "outputs": [
    {
     "data": {
      "text/plain": [
       "['.AdvertisingPopup', '.android', '.astropy', '.conda']"
      ]
     },
     "execution_count": 10,
     "metadata": {},
     "output_type": "execute_result"
    }
   ],
   "source": [
    "list=[\".AdvertisingPopup\",\".android\",\".astropy\",\".conda\"]\n",
    "list"
   ]
  },
  {
   "cell_type": "markdown",
   "metadata": {},
   "source": [
    "Q6 Use multiprocessing to create three separate processes. Make each one wait a random number of\n",
    "seconds between one and five, print the current time, and then exit."
   ]
  },
  {
   "cell_type": "code",
   "execution_count": 9,
   "metadata": {},
   "outputs": [],
   "source": [
    "import multiprocessing\n",
    "\n",
    "def printsec(seconds):\n",
    "    from datetime import datetime\n",
    "    from time import sleep\n",
    "    sleep(seconds)\n",
    "    print('wait', seconds, 'seconds, time is', datetime.utcnow())\n",
    "    \n",
    "if __name__ == '__main__':\n",
    "    import random    \n",
    "    for n in range(3):\n",
    "        seconds = random.random()\n",
    "        proc = multiprocessing.Process(target=printsec, args=(seconds,))\n",
    "        proc.start()"
   ]
  },
  {
   "cell_type": "markdown",
   "metadata": {},
   "source": [
    "Q7 Create a date object of your day of birth."
   ]
  },
  {
   "cell_type": "code",
   "execution_count": 12,
   "metadata": {},
   "outputs": [
    {
     "data": {
      "text/plain": [
       "datetime.date(1998, 2, 28)"
      ]
     },
     "execution_count": 12,
     "metadata": {},
     "output_type": "execute_result"
    }
   ],
   "source": [
    "my_dob = date(1998,2,28)\n",
    "my_dob"
   ]
  },
  {
   "cell_type": "markdown",
   "metadata": {},
   "source": [
    "Q8 What day of the week was your day of birth?"
   ]
  },
  {
   "cell_type": "code",
   "execution_count": 13,
   "metadata": {},
   "outputs": [
    {
     "data": {
      "text/plain": [
       "5"
      ]
     },
     "execution_count": 13,
     "metadata": {},
     "output_type": "execute_result"
    }
   ],
   "source": [
    "my_dob.weekday()"
   ]
  },
  {
   "cell_type": "markdown",
   "metadata": {},
   "source": [
    "Q9 When will you be (or when were you) 10,000 days old?"
   ]
  },
  {
   "cell_type": "code",
   "execution_count": 14,
   "metadata": {},
   "outputs": [
    {
     "data": {
      "text/plain": [
       "datetime.date(2025, 7, 16)"
      ]
     },
     "execution_count": 14,
     "metadata": {},
     "output_type": "execute_result"
    }
   ],
   "source": [
    "from datetime import timedelta\n",
    "day10000 = my_dob + timedelta(days=10000)\n",
    "day10000"
   ]
  }
 ],
 "metadata": {
  "kernelspec": {
   "display_name": "Python 3",
   "language": "python",
   "name": "python3"
  },
  "language_info": {
   "codemirror_mode": {
    "name": "ipython",
    "version": 3
   },
   "file_extension": ".py",
   "mimetype": "text/x-python",
   "name": "python",
   "nbconvert_exporter": "python",
   "pygments_lexer": "ipython3",
   "version": "3.8.5"
  }
 },
 "nbformat": 4,
 "nbformat_minor": 4
}
