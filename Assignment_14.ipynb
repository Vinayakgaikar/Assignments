{
 "cells": [
  {
   "cell_type": "code",
   "execution_count": 1,
   "metadata": {},
   "outputs": [
    {
     "data": {
      "text/plain": [
       "' Red-Green-Blue-Alpha'"
      ]
     },
     "execution_count": 1,
     "metadata": {},
     "output_type": "execute_result"
    }
   ],
   "source": [
    "#Q1 What does RGBA stand for?\n",
    "\"\"\" Red-Green-Blue-Alpha\"\"\""
   ]
  },
  {
   "cell_type": "code",
   "execution_count": 2,
   "metadata": {},
   "outputs": [
    {
     "data": {
      "text/plain": [
       "\"import the Image module from the Pillow library from PIL import Image.\\nOpen any image and get the RAGBAG values. img = Image.open('image.png') rgba = img.convert(“RGBA”) ...\\nChange the color. Data will be an Imaging Core object containing thousands of tuples of RGBA values. ...\\nStore the changed image. \""
      ]
     },
     "execution_count": 2,
     "metadata": {},
     "output_type": "execute_result"
    }
   ],
   "source": [
    "#Q2 From the Pillow module, how do you get the RGBA value of any images?\n",
    "\"\"\"import the Image module from the Pillow library from PIL import Image.\n",
    "Open any image and get the RAGBAG values. img = Image.open('image.png') rgba = img.convert(“RGBA”) ...\n",
    "Change the color. Data will be an Imaging Core object containing thousands of tuples of RGBA values. ...\n",
    "Store the changed image. \"\"\""
   ]
  },
  {
   "cell_type": "code",
   "execution_count": 3,
   "metadata": {},
   "outputs": [
    {
     "data": {
      "text/plain": [
       "' Many of Pillow’s functions and methods take a box tuple argument. This means Pillow is expecting a tuple of four integer coordinates that represent a rectangular region in an image. '"
      ]
     },
     "execution_count": 3,
     "metadata": {},
     "output_type": "execute_result"
    }
   ],
   "source": [
    "#Q3 What is a box tuple, and how does it work?\n",
    "\"\"\" Many of Pillow’s functions and methods take a box tuple argument. This means Pillow is expecting a tuple of four integer coordinates that represent a rectangular region in an image. \"\"\""
   ]
  },
  {
   "cell_type": "code",
   "execution_count": 4,
   "metadata": {},
   "outputs": [
    {
     "data": {
      "text/plain": [
       "'image = PIL. Image. open(\"sample.png\") image to open.\\nwidth, height = image. size. extract width and height from output tuple.\\nprint(width, height) '"
      ]
     },
     "execution_count": 4,
     "metadata": {},
     "output_type": "execute_result"
    }
   ],
   "source": [
    "#Q4 Use your image and load in notebook then, How can you find out the width and height of an Image object?\n",
    "\"\"\"image = PIL. Image. open(\"sample.png\") image to open.\n",
    "width, height = image. size. extract width and height from output tuple.\n",
    "print(width, height) \"\"\""
   ]
  },
  {
   "cell_type": "code",
   "execution_count": 2,
   "metadata": {},
   "outputs": [
    {
     "data": {
      "text/plain": [
       "'from PIL import Image\\nimg = Image.open(r\"IMG_20211002_131136.jpg\")\\ndef crop_center(pil_img, crop_width, crop_height):\\n    img_width, img_height = pil_img.size\\n    return pil_img.crop(((img_width - crop_width) // 2,\\n                         (img_height - crop_height) // 2,\\n                         (img_width + crop_width) // 2,\\n                         (img_height + crop_height) // 2))\\n  crop_center(img, 100, 100)'"
      ]
     },
     "execution_count": 2,
     "metadata": {},
     "output_type": "execute_result"
    }
   ],
   "source": [
    "#Q5 What method would you call to get Image object for a 100×100 image, excluding the lower-left quarter of it?\n",
    "\"\"\"from PIL import Image\n",
    "img = Image.open(r\"IMG_20211002_131136.jpg\")\n",
    "def crop_center(pil_img, crop_width, crop_height):\n",
    "    img_width, img_height = pil_img.size\n",
    "    return pil_img.crop(((img_width - crop_width) // 2,\n",
    "                         (img_height - crop_height) // 2,\n",
    "                         (img_width + crop_width) // 2,\n",
    "                         (img_height + crop_height) // 2))\n",
    "  crop_center(img, 100, 100)\"\"\""
   ]
  },
  {
   "cell_type": "code",
   "execution_count": 3,
   "metadata": {},
   "outputs": [
    {
     "data": {
      "text/plain": [
       "'Image.save(fp, format=None, **params) '"
      ]
     },
     "execution_count": 3,
     "metadata": {},
     "output_type": "execute_result"
    }
   ],
   "source": [
    "#Q6 After making changes to an Image object, how could you save it as an image file?\n",
    "\"\"\"Image.save(fp, format=None, **params) \"\"\""
   ]
  },
  {
   "cell_type": "code",
   "execution_count": 4,
   "metadata": {},
   "outputs": [
    {
     "data": {
      "text/plain": [
       "'The ‘ImageDraw’ module provides simple 2D graphics support for Image Object. Generally, we use this module to create new images, annotate or retouch existing images and to generate graphics on the fly for web use '"
      ]
     },
     "execution_count": 4,
     "metadata": {},
     "output_type": "execute_result"
    }
   ],
   "source": [
    "#Q7 What module contains Pillow’s shape-drawing code?\n",
    "\"\"\"The ‘ImageDraw’ module provides simple 2D graphics support for Image Object. Generally, we use this module to create new images, annotate or retouch existing images and to generate graphics on the fly for web use \"\"\""
   ]
  },
  {
   "cell_type": "code",
   "execution_count": 5,
   "metadata": {},
   "outputs": [
    {
     "data": {
      "text/plain": [
       "'Pillow provides a drawing module called ImageDraw that you can use to create simple 2D graphics on your Image objects '"
      ]
     },
     "execution_count": 5,
     "metadata": {},
     "output_type": "execute_result"
    }
   ],
   "source": [
    "#Q8 Image objects do not have drawing methods. What kind of object does? How do you get this kind of object?\n",
    "\"\"\"Pillow provides a drawing module called ImageDraw that you can use to create simple 2D graphics on your Image objects \"\"\""
   ]
  },
  {
   "cell_type": "code",
   "execution_count": null,
   "metadata": {},
   "outputs": [],
   "source": []
  }
 ],
 "metadata": {
  "kernelspec": {
   "display_name": "Python 3",
   "language": "python",
   "name": "python3"
  },
  "language_info": {
   "codemirror_mode": {
    "name": "ipython",
    "version": 3
   },
   "file_extension": ".py",
   "mimetype": "text/x-python",
   "name": "python",
   "nbconvert_exporter": "python",
   "pygments_lexer": "ipython3",
   "version": "3.8.5"
  }
 },
 "nbformat": 4,
 "nbformat_minor": 4
}
