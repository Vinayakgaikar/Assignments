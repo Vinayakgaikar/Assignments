{
 "cells": [
  {
   "cell_type": "code",
   "execution_count": 2,
   "id": "10304cf2",
   "metadata": {},
   "outputs": [
    {
     "data": {
      "text/plain": [
       "{}"
      ]
     },
     "execution_count": 2,
     "metadata": {},
     "output_type": "execute_result"
    }
   ],
   "source": [
    "#Q1 : What does an empty dictionary's code look like?\n",
    "\n",
    "dic={}\n",
    "dic"
   ]
  },
  {
   "cell_type": "code",
   "execution_count": 4,
   "id": "37573e74",
   "metadata": {},
   "outputs": [
    {
     "data": {
      "text/plain": [
       "{'foo': 42}"
      ]
     },
     "execution_count": 4,
     "metadata": {},
     "output_type": "execute_result"
    }
   ],
   "source": [
    "#Q2 : What is the value of a dictionary value with the key 'foo' and the value 42?\n",
    "\n",
    "dic={\"foo\":42}\n",
    "dic"
   ]
  },
  {
   "cell_type": "code",
   "execution_count": null,
   "id": "393d11ce",
   "metadata": {},
   "outputs": [],
   "source": [
    "#Q3 : What is the most significant distinction between a dictionary and a list?\n",
    "\n",
    "A list can store a sequence of objects in a certain order such that you can index into the list,or iterate over the list.\n",
    "Moreover, List is a mutable type meaning that lists can be modified after they have been created.\n",
    "Dictionary is an implementation of a hash table and is a key-value store.\n",
    "It is not ordered and it requires that the keys are hashtable.\n",
    "\n"
   ]
  },
  {
   "cell_type": "code",
   "execution_count": null,
   "id": "1344c6a5",
   "metadata": {},
   "outputs": [],
   "source": [
    "#Q4 : What happens if you try to access spam['foo'] if spam is {'bar': 100}?\n",
    "\n",
    "\n",
    "\n",
    "---------------------------------------------------------------------------\n",
    "KeyError                                  Traceback (most recent call last)\n",
    "<ipython-input-7-eb1d0efbede1> in <module>\n",
    "----> 1 spam[\"foo\"]\n",
    "\n",
    "KeyError: 'foo'"
   ]
  },
  {
   "cell_type": "code",
   "execution_count": 15,
   "id": "be7d97a9",
   "metadata": {},
   "outputs": [
    {
     "name": "stdout",
     "output_type": "stream",
     "text": [
      "True\n",
      "True\n"
     ]
    }
   ],
   "source": [
    "#Q5 :If a dictionary is stored in spam, what is the difference between the expressions 'cat' in spam and 'cat' in spam.keys()?\n",
    "\n",
    "\"There is no differnce, both check if 'cat' is key of the dictionary and if its a key, returns True.\"\n",
    "\n",
    "spam ={'cat':100}\n",
    "\n",
    "print('cat' in spam)\n",
    "print('cat' in spam.keys())"
   ]
  },
  {
   "cell_type": "code",
   "execution_count": 14,
   "id": "06d83da5",
   "metadata": {},
   "outputs": [
    {
     "name": "stdout",
     "output_type": "stream",
     "text": [
      "True\n",
      "False\n"
     ]
    }
   ],
   "source": [
    "#Q6 :If a dictionary is stored in spam, what is the difference between the expressions 'cat' in spam and 'cat' in spam.values()?\n",
    "\n",
    "\"\"\"'cat' in spam checks whether there is a 'cat' key in the dictionary which is True and\n",
    "'cat' in spam.values() checks whether there is a value 'cat' for one of the keys in spam which is gives False.\"\"\"\n",
    "spam ={'cat':100}\n",
    "\n",
    "print('cat' in spam)\n",
    "print('cat' in spam.values())\n"
   ]
  },
  {
   "cell_type": "code",
   "execution_count": 22,
   "id": "af51d55c",
   "metadata": {},
   "outputs": [
    {
     "data": {
      "text/plain": [
       "{'vinayak': 'Gaikar', 'color': 'black'}"
      ]
     },
     "execution_count": 22,
     "metadata": {},
     "output_type": "execute_result"
    }
   ],
   "source": [
    "#Q7 : What is a shortcut for the following code?\n",
    "if 'color' not in spam:\n",
    "    spam['color'] = 'black'\n",
    "\n",
    "\"By using setdefault() which Inserts key with a value of default if key is not in the dictionary\"\n",
    "spam={\"vinayak\":\"Gaikar\"}\n",
    "spam.setdefault('color','black')\n",
    "spam"
   ]
  },
  {
   "cell_type": "code",
   "execution_count": 26,
   "id": "61ca17b6",
   "metadata": {},
   "outputs": [
    {
     "name": "stdout",
     "output_type": "stream",
     "text": [
      "[{'Age': '23', 'Country': 'USA', 'Name': 'John'},\n",
      " {'Age': '44', 'Country': 'Spain', 'Name': 'Jose'},\n",
      " {'Age': '29', 'Country': 'UK', 'Name': 'Anne'},\n",
      " {'Age': '35', 'Country': 'Japan', 'Name': 'Lee'}]\n"
     ]
    }
   ],
   "source": [
    "#Q8 : How do you 'pretty print' dictionary values using which module and function?\n",
    "\n",
    "\"\"\"pprint is a Python module that provides the capability to pretty print Python data types to be more readable. \n",
    "This module also supports pretty-printing dictionary. Within the pprint module there is a function with the same name pprint(), \n",
    "which is the function used to pretty-print the given string or object.\"\"\"\n",
    "\n",
    "import pprint\n",
    "dict = [{'Name': 'John', 'Age': '23', 'Country': 'USA'},\n",
    "  {'Name': 'Jose', 'Age': '44', 'Country': 'Spain'},\n",
    "  {'Name': 'Anne', 'Age': '29', 'Country': 'UK'},\n",
    "  {'Name': 'Lee', 'Age': '35', 'Country': 'Japan'}]\n",
    "  \n",
    "\n",
    "\n",
    "pprint.pprint(dict)\n"
   ]
  },
  {
   "cell_type": "code",
   "execution_count": null,
   "id": "e0a072c2",
   "metadata": {},
   "outputs": [],
   "source": []
  }
 ],
 "metadata": {
  "kernelspec": {
   "display_name": "Python 3",
   "language": "python",
   "name": "python3"
  },
  "language_info": {
   "codemirror_mode": {
    "name": "ipython",
    "version": 3
   },
   "file_extension": ".py",
   "mimetype": "text/x-python",
   "name": "python",
   "nbconvert_exporter": "python",
   "pygments_lexer": "ipython3",
   "version": "3.8.8"
  }
 },
 "nbformat": 4,
 "nbformat_minor": 5
}
