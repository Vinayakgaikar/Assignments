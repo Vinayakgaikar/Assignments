{
 "cells": [
  {
   "cell_type": "code",
   "execution_count": null,
   "id": "12be5740",
   "metadata": {},
   "outputs": [],
   "source": [
    "#Q1. What is the name of the feature responsible for generating Regex objects?\n",
    "Ans: re.compile() is the feature responsible for generation of Regex objects."
   ]
  },
  {
   "cell_type": "code",
   "execution_count": null,
   "id": "ffcb848c",
   "metadata": {},
   "outputs": [],
   "source": [
    "#Q2. Why do raw strings often appear in Regex objects?\n",
    "Ans: Regular expressions use the backslash character ('\\') to indicate special forms (Metacharacters) or to allow special\n",
    "     characters (speical sequences) to be used without invoking their special meaning. This collides with Python’s usage \n",
    "     of the same character for the same purpose in string literals. Hence, Raw strings are used (e.g. r\"\\n\") so that \n",
    "     backslashes do not have to be escaped."
   ]
  },
  {
   "cell_type": "code",
   "execution_count": null,
   "id": "ee6fdd22",
   "metadata": {},
   "outputs": [],
   "source": [
    "#Q3. What is the return value of the search() method?\n",
    "Ans: The return value of re.search(pattern,string) method is a match object if the pattern is observed in the string \n",
    "     else it returns a None"
   ]
  },
  {
   "cell_type": "code",
   "execution_count": null,
   "id": "06d01c4b",
   "metadata": {},
   "outputs": [],
   "source": [
    "#Q4. From a Match item, how do you get the actual strings that match the pattern?\n",
    "Ans: For Matched items group() methods returns actual strings that match the pattern."
   ]
  },
  {
   "cell_type": "code",
   "execution_count": null,
   "id": "e6eb7819",
   "metadata": {},
   "outputs": [],
   "source": [
    "#Q5.  In the regex which created from the r'(\\d\\d\\d)-(\\d\\d\\d-\\d\\d\\d\\d)', what does group zero cover? Group 2? Group 1?\n",
    "Ans: In the Regex r'(\\d\\d\\d)-(\\d\\d\\d-\\d\\d\\d\\d)' the zero group covers the entire pattern match where as the first group\n",
    "     cover (\\d\\d\\d) and the second group cover (\\d\\d\\d-\\d\\d\\d\\d)."
   ]
  },
  {
   "cell_type": "code",
   "execution_count": null,
   "id": "c461dbc5",
   "metadata": {},
   "outputs": [],
   "source": [
    "#Q6.In standard expression syntax, parentheses and intervals have distinct meanings. How can you tell a regex that you want it to fit real parentheses and periods?\n",
    "Ans: The \\. \\( and \\) escape characters in the raw string passed to re.compile() will match actual parenthesis characters."
   ]
  },
  {
   "cell_type": "code",
   "execution_count": null,
   "id": "10c7c89c",
   "metadata": {},
   "outputs": [],
   "source": [
    "#Q7.The findall() method returns a string list or a list of string tuples. What causes it to return one of the two options?\n",
    "Ans: If the regex pattern has no groups, a list of strings matched is returned. if the regex pattern has groups, \n",
    "     a list of tuple of strings is returned."
   ]
  },
  {
   "cell_type": "code",
   "execution_count": null,
   "id": "c509cb48",
   "metadata": {},
   "outputs": [],
   "source": [
    "#Q8. In standard expressions, what does the | character mean?\n",
    "\n",
    "Ans: In Standard Expressions | means OR operator."
   ]
  },
  {
   "cell_type": "code",
   "execution_count": null,
   "id": "ec04e125",
   "metadata": {},
   "outputs": [],
   "source": [
    "#Q9. In regular expressions, what does the ? character stand for?\n",
    "\n",
    "Ans: In regular Expressions, ? characters represents zero or one match of the preceeding group."
   ]
  },
  {
   "cell_type": "code",
   "execution_count": null,
   "id": "6975e0b9",
   "metadata": {},
   "outputs": [],
   "source": [
    "#Q10.In regular expressions, what is the difference between the + and * characters?\n",
    "\n",
    "Ans: In Regular Expressions, * Represents Zero ore more occurances of the preceeding group,\n",
    "    whereas + represents one or more occurances of the preceeding group."
   ]
  },
  {
   "cell_type": "code",
   "execution_count": null,
   "id": "79c77693",
   "metadata": {},
   "outputs": [],
   "source": [
    "#Q11. What is the difference between {4} and {4,5} in regular expression?\n",
    "\n",
    "Ans: {4} means that its preceeding group should repeat 4 times. where as {4,5} means that its preceeding group should\n",
    "    repeat mininum 4 times and maximum 5 times inclusively."
   ]
  },
  {
   "cell_type": "code",
   "execution_count": null,
   "id": "c11a3c8e",
   "metadata": {},
   "outputs": [],
   "source": [
    "#Q11. What is the difference between {4} and {4,5} in regular expression?\n",
    "\n",
    "Ans: {4} means that its preceeding group should repeat 4 times. where as {4,5} means that its preceeding group \n",
    "     should repeat mininum 4 times and maximum 5 times inclusively"
   ]
  },
  {
   "cell_type": "code",
   "execution_count": null,
   "id": "6450ef3b",
   "metadata": {},
   "outputs": [],
   "source": [
    "#Q12. What do you mean by the \\d, \\w, and \\s shorthand character classes signify in regular expressions?\n",
    "\n",
    "Ans: \\d, \\w and \\s are special sequences in regular expresssions in python:\n",
    "\n",
    "\\w – Matches a word character equivalent to [a-zA-Z0-9_]\n",
    "\\d – Matches digit character equivalent to [0-9]\n",
    "\\s – Matches whitespace character (space, tab, newline, etc.)"
   ]
  },
  {
   "cell_type": "code",
   "execution_count": null,
   "id": "ed6b4099",
   "metadata": {},
   "outputs": [],
   "source": [
    "#Q13. What do means by \\D, \\W, and \\S shorthand character classes signify in regular expressions?\n",
    "\n",
    "Ans: \\D, \\W and \\S are special sequences in regular expresssions in python:\n",
    "\n",
    "\\W – Matches any non-alphanumeric character equivalent to [^a-zA-Z0-9_]\n",
    "\\D – Matches any non-digit character, this is equivalent to the set class [^0-9]\n",
    "\\S – Matches any non-whitespace character"
   ]
  },
  {
   "cell_type": "code",
   "execution_count": null,
   "id": "16f0ad51",
   "metadata": {},
   "outputs": [],
   "source": [
    "#Q14. What is the difference between .*? and .*?\n",
    "\n",
    "Ans: .* is a Greedy mode, which returns the longest string that meets the condition. Whereas .\n",
    "      *? is a non greedy mode which returns the shortest string that meets the condition.\n",
    "\n"
   ]
  },
  {
   "cell_type": "code",
   "execution_count": null,
   "id": "0fd3e168",
   "metadata": {},
   "outputs": [],
   "source": [
    "#Q15. What is the syntax for matching both numbers and lowercase letters with a character class?\n",
    "\n",
    "Ans: The Synatax is Either [a-z0-9] or [0-9a-z]"
   ]
  },
  {
   "cell_type": "code",
   "execution_count": null,
   "id": "0196c06e",
   "metadata": {},
   "outputs": [],
   "source": [
    "#Q16. What is the procedure for making a normal expression in regax case insensitive?\n",
    "\n",
    "Ans: We can pass re.IGNORECASE as a flag to make a noraml expression case insensitive"
   ]
  },
  {
   "cell_type": "code",
   "execution_count": null,
   "id": "de862924",
   "metadata": {},
   "outputs": [],
   "source": [
    "#Q17. What does the . character normally match? What does it match if re.DOTALL is passed as 2nd argument in re.compile()?\n",
    "\n",
    "Ans:Dot . character matches everything in input except newline character .. By passing re.DOTALL as a flag to re.compile(),\n",
    "    you can make the dot character match all characters, including the newline character.\n"
   ]
  },
  {
   "cell_type": "code",
   "execution_count": 2,
   "id": "45f276ee",
   "metadata": {},
   "outputs": [
    {
     "data": {
      "text/plain": [
       "'X drummers, X pipers, five rings, X hen'"
      ]
     },
     "execution_count": 2,
     "metadata": {},
     "output_type": "execute_result"
    }
   ],
   "source": [
    "#Q18. If numReg = re.compile(r'\\d+'), what will numRegex.sub('X', '11 drummers, 10 pipers, five rings, 4 hen') return?\n",
    "\n",
    "import re\n",
    "numReg = re.compile(r'\\d+')\n",
    "numReg.sub('X', '11 drummers, 10 pipers, five rings, 4 hen')"
   ]
  },
  {
   "cell_type": "code",
   "execution_count": null,
   "id": "4057a2f6",
   "metadata": {},
   "outputs": [],
   "source": [
    "#Q19. What does passing re.VERBOSE as the 2nd argument to re.compile() allow to do?\n",
    "\n",
    "Ans: re.VERBOSE will allow to add whitespace and comments to string passed to re.compile()."
   ]
  },
  {
   "cell_type": "code",
   "execution_count": null,
   "id": "969ce0bd",
   "metadata": {},
   "outputs": [],
   "source": []
  },
  {
   "cell_type": "code",
   "execution_count": null,
   "id": "a5216020",
   "metadata": {},
   "outputs": [],
   "source": [
    "#Q20. How would you write a regex that match a number with comma for every three digits? It must match the given following:\n",
    "'42'\n",
    "'1,234'\n",
    "'6,368,745'\n",
    "but not the following:\n",
    "'12,34,567' (which has only two digits between the commas)\n",
    "'1234' (which lacks commas)"
   ]
  },
  {
   "cell_type": "code",
   "execution_count": null,
   "id": "d37cdfa4",
   "metadata": {},
   "outputs": [],
   "source": [
    "re.compile(r'[A-Z][a-z]*\\sNakamoto')"
   ]
  },
  {
   "cell_type": "code",
   "execution_count": null,
   "id": "a3ce6c76",
   "metadata": {},
   "outputs": [],
   "source": []
  },
  {
   "cell_type": "code",
   "execution_count": null,
   "id": "c437d219",
   "metadata": {},
   "outputs": [],
   "source": [
    "#Q21. How would you write a regex that matches the full name of someone whose last name is Watanabe? You can assume that the first name that comes before it will always be one word that begins with a capital letter. The regex must match the following:\n",
    "'Haruto Watanabe'\n",
    "'Alice Watanabe'\n",
    "'RoboCop Watanabe'\n",
    "but not the following:\n",
    "'haruto Watanabe' (where the first name is not capitalized)\n",
    "'Mr. Watanabe' (where the preceding word has a nonletter character)\n",
    "'Watanabe' (which has no first name)\n",
    "'Haruto watanabe' (where Watanabe is not capitalized)"
   ]
  },
  {
   "cell_type": "code",
   "execution_count": null,
   "id": "2f82d57e",
   "metadata": {},
   "outputs": [],
   "source": [
    "re.compile(r'[A-Z][a-z]*\\sNakamoto')"
   ]
  },
  {
   "cell_type": "code",
   "execution_count": null,
   "id": "0a20d765",
   "metadata": {},
   "outputs": [],
   "source": []
  },
  {
   "cell_type": "code",
   "execution_count": null,
   "id": "318b3e90",
   "metadata": {},
   "outputs": [],
   "source": [
    "#Q22. How would you write a regex that matches a sentence where the first word is either Alice, Bob,or Carol; the second word is either eats, pets, or throws; the third word is apples, cats, or baseballs; and the sentence ends with a period? This regex should be case-insensitive. It must match the following:\n",
    "'Alice eats apples.'\n",
    "'Bob pets cats.'\n",
    "'Carol throws baseballs.'\n",
    "'Alice throws Apples.'\n",
    "'BOB EATS CATS.'\n",
    "but not the following:\n",
    "'RoboCop eats apples.'\n",
    "'ALICE THROWS FOOTBALLS.'\n",
    "'Carol eats 7 cats.'"
   ]
  },
  {
   "cell_type": "code",
   "execution_count": null,
   "id": "4b746d6f",
   "metadata": {},
   "outputs": [],
   "source": [
    "re.compile(r'(Alice|Bob|Carol)\\s(eats|pets|throws)\\s(apples|cats|baseballs)\\.', re.IGNORECASE)"
   ]
  }
 ],
 "metadata": {
  "kernelspec": {
   "display_name": "Python 3",
   "language": "python",
   "name": "python3"
  },
  "language_info": {
   "codemirror_mode": {
    "name": "ipython",
    "version": 3
   },
   "file_extension": ".py",
   "mimetype": "text/x-python",
   "name": "python",
   "nbconvert_exporter": "python",
   "pygments_lexer": "ipython3",
   "version": "3.8.8"
  }
 },
 "nbformat": 4,
 "nbformat_minor": 5
}
