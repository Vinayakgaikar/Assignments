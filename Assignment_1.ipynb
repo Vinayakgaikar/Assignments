{
 "cells": [
  {
   "cell_type": "code",
   "execution_count": null,
   "id": "95405d8e",
   "metadata": {},
   "outputs": [],
   "source": [
    "#Q1\n",
    "\n",
    "   *      : expression\n",
    "'hello'   : value\n",
    "-87.8     : value\n",
    " -        : expression\n",
    " /        : expression\n",
    " +        : expression\n",
    " 6        : value\n"
   ]
  },
  {
   "cell_type": "code",
   "execution_count": null,
   "id": "a33ca5ce",
   "metadata": {},
   "outputs": [],
   "source": [
    "#2\n",
    "\n",
    "A string is a sequence of characters and it is the values inside the quotes. \n",
    "Variable is the name of the location in the primary memory of computer . It can store everything from strings to numbers. "
   ]
  },
  {
   "cell_type": "code",
   "execution_count": null,
   "id": "6f03ffd3",
   "metadata": {},
   "outputs": [],
   "source": [
    "#Q3\n",
    "\n",
    "Numeric  : Numeric data type represent the data which has numeric value. Numeric value can be integer, floating number or even complex numbers. These values are defined as int, float and complex class in Python.\n",
    "Sequence Type : Sequence is the ordered collection of similar or different data types.There are several sequence types in Python String , List , Tuple.\n",
    "Boolean   :  Boolean is denoted by the class bool. In boolean data type there are two values True or False .\n"
   ]
  },
  {
   "cell_type": "code",
   "execution_count": null,
   "id": "c43658e5",
   "metadata": {},
   "outputs": [],
   "source": [
    "#Q4\n",
    "\n",
    "An expression is a combination of values, variables, operators, and calls to functions.\n",
    "Expressions need to be evaluated. If you ask Python to print an expression, the interpreter evaluates the expression and displays the result."
   ]
  },
  {
   "cell_type": "code",
   "execution_count": null,
   "id": "1414b40e",
   "metadata": {},
   "outputs": [],
   "source": [
    "#Q5\n",
    "\n",
    "An expression always Produces or returns a result value. \n",
    "A statement may or may not produces or displays a result value, it only does whatever the statement says."
   ]
  },
  {
   "cell_type": "code",
   "execution_count": 1,
   "id": "099ec57c",
   "metadata": {},
   "outputs": [
    {
     "data": {
      "text/plain": [
       "23"
      ]
     },
     "execution_count": 1,
     "metadata": {},
     "output_type": "execute_result"
    }
   ],
   "source": [
    "#Q6\n",
    "\n",
    "bacon = 22\n",
    "bacon + 1"
   ]
  },
  {
   "cell_type": "code",
   "execution_count": 2,
   "id": "1cf44652",
   "metadata": {},
   "outputs": [
    {
     "data": {
      "text/plain": [
       "('spamspamspam', 'spamspamspam')"
      ]
     },
     "execution_count": 2,
     "metadata": {},
     "output_type": "execute_result"
    }
   ],
   "source": [
    "#Q7\n",
    "\n",
    "a='spam'+ 'spamspam'\n",
    "b='spam'*3\n",
    "a,b\n",
    "\n",
    "#output : ('spamspamspam', 'spamspamspam')"
   ]
  },
  {
   "cell_type": "code",
   "execution_count": null,
   "id": "db41d2a2",
   "metadata": {},
   "outputs": [],
   "source": [
    "#Q8\n",
    "\n",
    "A variable name must start with a letter or the underscore character.\n",
    "A variable name cannot start with a number.\n",
    "That's why  eggs is a valid variable name while 100 is invalid ."
   ]
  },
  {
   "cell_type": "code",
   "execution_count": null,
   "id": "9f453107",
   "metadata": {},
   "outputs": [],
   "source": [
    "#Q9\n",
    "\n",
    "The int() , float() , and str( ) functions will evaluate to the integer, floating-point number, and string versions of a value."
   ]
  },
  {
   "cell_type": "code",
   "execution_count": null,
   "id": "bc751888",
   "metadata": {},
   "outputs": [],
   "source": [
    "#Q10\n",
    "\n",
    "Beacause in python can only concatenate str (not \"int\") to str\n",
    "We can fix it by convrting 'integer' into 'string'\n",
    "\n",
    "correct expression is :\n",
    "    'I have eaten' + '99' + 'burritos.'\n",
    "    \n",
    "#output :'I have eaten99burritos.'"
   ]
  },
  {
   "cell_type": "code",
   "execution_count": null,
   "id": "1fa0c305",
   "metadata": {},
   "outputs": [],
   "source": []
  }
 ],
 "metadata": {
  "kernelspec": {
   "display_name": "Python 3",
   "language": "python",
   "name": "python3"
  },
  "language_info": {
   "codemirror_mode": {
    "name": "ipython",
    "version": 3
   },
   "file_extension": ".py",
   "mimetype": "text/x-python",
   "name": "python",
   "nbconvert_exporter": "python",
   "pygments_lexer": "ipython3",
   "version": "3.8.8"
  }
 },
 "nbformat": 4,
 "nbformat_minor": 5
}
