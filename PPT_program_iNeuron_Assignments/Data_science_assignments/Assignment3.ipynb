{
 "cells": [
  {
   "cell_type": "markdown",
   "id": "3c4091b8",
   "metadata": {},
   "source": [
    "#### 1. Scenario: A company wants to analyze the sales performance of its products in different regions. They have collected the following data:\n",
    "   Region A: [10, 15, 12, 8, 14]\n",
    "   \n",
    "   Region B: [18, 20, 16, 22, 25]\n",
    "   \n",
    "   Calculate the mean sales for each region."
   ]
  },
  {
   "cell_type": "markdown",
   "id": "c9d61785",
   "metadata": {},
   "source": [
    "SOLUTION:\n",
    "\n",
    "Mean of Region A = (10+15+12+8+14)/5 = 11.8\n",
    "\n",
    "Mean of Region B = (18+20+16+22+25) = 20.2"
   ]
  },
  {
   "cell_type": "markdown",
   "id": "e72f65dd",
   "metadata": {},
   "source": [
    "#### 2. Scenario: A survey is conducted to measure customer satisfaction on a scale of 1 to 5. The data collected is as follows:\n",
    "\n",
    "   [4, 5, 2, 3, 5, 4, 3, 2, 4, 5]\n",
    "   \n",
    "   Calculate the mode of the survey responses."
   ]
  },
  {
   "cell_type": "markdown",
   "id": "ed861aff",
   "metadata": {},
   "source": [
    "Ans = 4"
   ]
  },
  {
   "cell_type": "markdown",
   "id": "934e8ac4",
   "metadata": {},
   "source": [
    "#### 3. Scenario: A company wants to compare the salaries of two departments. The salary data for Department A and Department B are as follows:\n",
    "\n",
    "   Department A: [5000, 6000, 5500, 7000]\n",
    "   \n",
    "   Department B: [4500, 5500, 5800, 6000, 5200]\n",
    "   \n",
    "   Calculate the median salary for each department."
   ]
  },
  {
   "cell_type": "markdown",
   "id": "2831b5eb",
   "metadata": {},
   "source": [
    "SOLUTION:\n",
    "\n",
    "Median of A = (5500+6000)/2 = 5750\n",
    "\n",
    "Median of B = 5500"
   ]
  },
  {
   "cell_type": "markdown",
   "id": "8234cfc8",
   "metadata": {},
   "source": [
    "#### 4. Scenario: A data analyst wants to determine the variability in the daily stock prices of a company. The data collected is as follows:\n",
    "   [25.5, 24.8, 26.1, 25.3, 24.9]\n",
    "   \n",
    "   Calculate the range of the stock prices. "
   ]
  },
  {
   "cell_type": "markdown",
   "id": "7373357c",
   "metadata": {},
   "source": [
    "Range = [24.8,26.1]"
   ]
  },
  {
   "cell_type": "markdown",
   "id": "7c3fa42f",
   "metadata": {},
   "source": [
    "#### 5. Scenario: A study is conducted to compare the performance of two different teaching methods. The test scores of the students in each group are as follows:\n",
    "   Group A: [85, 90, 92, 88, 91]\n",
    "   \n",
    "   Group B: [82, 88, 90, 86, 87]\n",
    "   \n",
    "   Perform a t-test to determine if there is a significant difference in the mean scores between the two groups."
   ]
  },
  {
   "cell_type": "markdown",
   "id": "2f1c41f5",
   "metadata": {},
   "source": [
    "SOLUTION:\n",
    "\n",
    "Mean of Group A = (85+90+92+88+91)/5 = 89.2\n",
    "\n",
    "Mean of Group B = (82+88+90+86+87)/5 = 86.6\n",
    "\n",
    "Standard Deviation of A ≈ 2.701\n",
    "\n",
    "Standard Deviation of B ≈ 2.701"
   ]
  },
  {
   "cell_type": "markdown",
   "id": "2796be5c",
   "metadata": {},
   "source": [
    "#### 6. Scenario: A company wants to analyze the relationship between advertising expenditure and sales. The data collected is as follows:\n",
    "   Advertising Expenditure (in thousands): [10, 15, 12, 8, 14]\n",
    "   \n",
    "   Sales (in thousands): [25, 30, 28, 20, 26]\n",
    "   \n",
    "   Calculate the correlation coefficient between advertising expenditure and sales."
   ]
  },
  {
   "cell_type": "markdown",
   "id": "f1cd8156",
   "metadata": {},
   "source": [
    "SOLUTION:\n",
    "\n",
    "Standard deviation of Advertising Expenditure = 2.86\n",
    "\n",
    "Standard deviation of Sales = 3.76\n",
    "\n",
    "Covariance of (Advertising Exp. & Sales) = 10.33\n",
    "\n",
    "Pearson Correlation Coeffecient = Covariance of (Advertising Exp. , Sales)/ ((Std Dev of Advertising Exp) * (Std Dev of Sales))\n",
    "                                = 10.33/(2.86*3.76)\n",
    "                                = 0.9357"
   ]
  },
  {
   "cell_type": "markdown",
   "id": "40cdfe63",
   "metadata": {},
   "source": [
    "#### 7. Scenario: A survey is conducted to measure the heights of a group of people. The data collected is as follows:\n",
    "   [160, 170, 165, 155, 175, 180, 170]\n",
    "   \n",
    "   Calculate the standard deviation of the heights."
   ]
  },
  {
   "cell_type": "markdown",
   "id": "40356965",
   "metadata": {},
   "source": [
    "Solution:\n",
    "\n",
    "Standard Deviation = 8.59"
   ]
  },
  {
   "cell_type": "markdown",
   "id": "dfb0e81a",
   "metadata": {},
   "source": [
    "#### 8. Scenario: A company wants to analyze the relationship between employee tenure and job satisfaction. The data collected is as follows:\n",
    "   Employee Tenure (in years): [2, 3, 5, 4, 6, 2, 4]\n",
    "   \n",
    "   Job Satisfaction (on a scale of 1 to 10): [7, 8, 6, 9, 5, 7, 6]\n",
    "   \n",
    "   Perform a linear regression analysis to predict job satisfaction based on employee tenure."
   ]
  },
  {
   "cell_type": "markdown",
   "id": "9bc081b4",
   "metadata": {},
   "source": [
    "SOLUTION:\n",
    "\n",
    "Mean of Employee Tenure = (2 + 3 + 5 + 4 + 6 + 2 + 4) / 7 = 3.57\n",
    "\n",
    "Mean of Job Satisfaction = (7 + 8 + 6 + 9 + 5 + 7 + 6) / 7 = 6.86\n",
    "\n",
    "Deviation of Employee Tenure = [2-3.57, 3-3.57, 5-3.57, 4-3.57, 6-3.57, 2-3.57, 4-3.57] ≈ [-1.57, -0.57, 1.43, 0.43, 2.43, -1.57, 0.43]\n",
    "\n",
    "Deviation of Job Satisfaction = [7-6.86, 8-6.86, 6-6.86, 9-6.86, 5-6.86, 7-6.86, 6-6.86] ≈ [0.14, 1.14, -0.86, 2.14, -1.86, 0.14, -0.86]\n",
    "\n",
    "Product of Deviations = [-1.57 * 0.14, -0.57 * 1.14, 1.43 * -0.86, 0.43 * 2.14, 2.43 * -1.86, -1.57 * 0.14, 0.43 * -0.86] ≈ [-0.22, -0.65, -1.23, 0.92, -4.51, -0.22, -0.37]\n",
    "\n",
    "Sum of Products of Deviations = -0.22 + -0.65 + -1.23 + 0.92 + -4.51 + -0.22 + -0.37 ≈ -6.28\n",
    "\n",
    "Sum of Squared Deviations of Employee Tenure = (-1.57)^2 + (-0.57)^2 + (1.43)^2 + (0.43)^2 + (2.43)^2 + (-1.57)^2 + (0.43)^2 ≈ 14.71\n",
    "\n",
    "Slope = Sum of Products of Deviations / Sum of Squared Deviations of Employee Tenure = -6.28 / 14.71 ≈ -0.426\n",
    "\n",
    "Intercept = Mean of Job Satisfaction - Slope * Mean of Employee Tenure = 6.86 - (-0.426 * 3.57) ≈ 8.35\n",
    "\n",
    "Job Satisfaction = Intercept + Slope * Employee Tenure\n",
    "\n",
    "Job Satisfaction = 8.35 - 0.426 * Employee Tenure\n",
    "\n",
    "For example, if an employee has a tenure of 7 years:\n",
    "Job Satisfaction = 8.35 - 0.426 * 7 ≈ 5.19\n",
    "\n",
    "Therefore, based on the linear regression analysis, we can predict that an employee with a tenure of 7 years would have a job satisfaction score of approximately 5.19.\n"
   ]
  },
  {
   "cell_type": "markdown",
   "id": "36ce8915",
   "metadata": {},
   "source": [
    "#### 9. Scenario: A study is conducted to compare the effectiveness of two different medications. The recovery times of the patients in each group are as follows:\n",
    "   Medication A: [10, 12, 14, 11, 13]\n",
    "   \n",
    "   Medication B: [15, 17, 16, 14, 18]\n",
    "   \n",
    "   Perform an analysis of variance (ANOVA) to determine if there is a significant difference in the mean recovery times between the two medications. "
   ]
  },
  {
   "cell_type": "markdown",
   "id": "c0b06100",
   "metadata": {},
   "source": [
    "SOLUTION:\n",
    "\n",
    "Mean of Medication A = (10 + 12 + 14 + 11 + 13) / 5 = 12\n",
    "\n",
    "Mean of Medication B = (15 + 17 + 16 + 14 + 18) / 5 = 16\n",
    "\n",
    "Sum of Squares Within Groups (SSW) = ((10-12)^2 + (12-12)^2 + (14-12)^2 + (11-12)^2 + (13-12)^2) + ((15-16)^2 + (17-16)^2 + (16-16)^2 + (14-16)^2 + (18-16)^2)\n",
    "\n",
    "SSW = 4 + 0 + 4 + 1 + 1 + 1 + 1 + 0 + 4 + 4 = 20\n",
    "\n",
    "Sum of Squares Between Groups (SSB) = (5 * ((12-14)^2)) + (5 * ((16-14)^2))\n",
    "\n",
    "SSB = 10 + 10 = 20\n",
    "\n",
    "Degrees of Freedom Between Groups (dfB) = Number of groups - 1 = 2 - 1 = 1\n",
    "\n",
    "Degrees of Freedom Within Groups (dfW) = Total number of data points - Number of groups = 10 - 2 = 8\n",
    "\n",
    "Mean Square Between Groups (MSB) = SSB / dfB = 20 / 1 = 20\n",
    "\n",
    "Mean Square Within Groups (MSW) = SSW / dfW = 20 / 8 = 2.5\n",
    "\n",
    "F-statistic = MSB / MSW = 20 / 2.5 = 8\n",
    "\n",
    "Assuming a significance level of 0.05 and dfB = 1 and dfW = 8, the critical value of the F-distribution is approximately 5.32.\n",
    "\n",
    "F-statistic = 8 > 5.32\n",
    "\n",
    "Since the calculated F-statistic (8) is greater than the critical value (5.32), we reject the null hypothesis. This means that there is a significant difference in the mean recovery times between the two medications.\n"
   ]
  },
  {
   "cell_type": "markdown",
   "id": "b46ef2c3",
   "metadata": {},
   "source": [
    "#### 10. Scenario: A company wants to analyze customer feedback ratings on a scale of 1 to 10. The data collected is as follows:\n",
    " \n",
    "    [8, 9, 7, 6, 8, 10, 9, 8, 7, 8]\n",
    "    \n",
    "    Calculate the 75th percentile of the feedback ratings."
   ]
  },
  {
   "cell_type": "markdown",
   "id": "b24bfe44",
   "metadata": {},
   "source": [
    "SOLUTION:\n",
    "\n",
    "Data in ascending order: [6, 7, 7, 8, 8, 8, 8, 9, 9, 10]\n",
    "\n",
    "Index of 75th percentile = (75 / 100) * (n + 1)\n",
    "= (75 / 100) * (10 + 1)\n",
    "= 0.75 * 11\n",
    "= 8.25 ≈ 8\n",
    "\n",
    "The value at the 8th index is 9.\n",
    "\n",
    "Therefore, the 75th percentile of the feedback ratings is 9."
   ]
  },
  {
   "cell_type": "markdown",
   "id": "1ec251c7",
   "metadata": {},
   "source": [
    "#### 11. Scenario: A quality control department wants to test the weight consistency of a product. The weights of a sample of products are as follows:\n",
    "    [10.2, 9.8, 10.0, 10.5, 10.3, 10.1]\n",
    "    \n",
    "    Perform a hypothesis test to determine if the mean weight differs significantly from 10 grams."
   ]
  },
  {
   "cell_type": "markdown",
   "id": "521c3389",
   "metadata": {},
   "source": [
    "#### SOLUTION:\n",
    "\n",
    "Null hypothesis (H0): The mean weight is equal to 10 grams.\n",
    "\n",
    "Alternative hypothesis (H1): The mean weight is different from 10 grams.\n",
    "\n",
    "Let's assume a confidence interval of 95%, therefore, significance level will be 0.05, which is a commonly used value.\n",
    "\n",
    "Sample mean = (10.2 + 9.8 + 10.0 + 10.5 + 10.3 + 10.1) / 6 ≈ 10.17\n",
    "\n",
    "Sample standard deviation = sqrt(((10.2-10.17)^2 + (9.8-10.17)^2 + (10.0-10.17)^2 + (10.5-10.17)^2 + (10.3-10.17)^2 + (10.1-10.17)^2) / (6-1)) ≈ 0.24\n",
    "\n",
    "t-statistic = (x̄ - μ) / (sd / sqrt(n))\n",
    "\n",
    "where x̄ is the sample mean, μ is the hypothesized population mean (10 grams), sd is the sample standard deviation, and n is the sample size.\n",
    "\n",
    "t-statistic = (10.17+10)/(0.24/(sqrt(6)) ≈ 1.59\n",
    "\n",
    "Degrees of freedom (df) = n - 1 = 6 - 1 = 5\n",
    "\n",
    "Since we are performing a two-tailed test and α = 0.05, the critical value is approximately ±2.571 for a sample size of 6 and 5 degrees of freedom.\n",
    "|t-statistic| = |1.59| < 2.571\n",
    "\n",
    "Since the calculated t-statistic (1.59) does not exceed the critical value (±2.571), we fail to reject the null hypothesis. This means that we do not have enough evidence to conclude that the mean weight significantly differs from 10 grams at the 0.05 significance level.\n",
    "\n",
    "Therefore, based on the hypothesis test, there is not enough evidence to suggest that the mean weight of the product significantly differs from 10 grams."
   ]
  },
  {
   "cell_type": "markdown",
   "id": "e62860b2",
   "metadata": {},
   "source": [
    "#### 13. Scenario: A survey is conducted to measure customer satisfaction with a product on a scale of 1 to 10. The data collected is as follows:\n",
    "    [7, 9, 6, 8, 10, 7, 8, 9, 7, 8]\n",
    "    \n",
    "    Calculate the 95% confidence interval for the population mean satisfaction score."
   ]
  },
  {
   "cell_type": "markdown",
   "id": "14021437",
   "metadata": {},
   "source": [
    "SOLUTION:\n",
    "\n",
    "Sample mean (x̄) = (7 + 9 + 6 + 8 + 10 + 7 + 8 + 9 + 7 + 8) / 10 = 8\n",
    "\n",
    "Sample standard deviation (sd) = sqrt(((7-8)^2 + (9-8)^2 + (6-8)^2 + (8-8)^2 + (10-8)^2 + (7-8)^2 + (8-8)^2 + (9-8)^2 + (7-8)^2 + (8-8)^2) / (10-1)) ≈ 1.16\n",
    "\n",
    "Since the sample size is small (n = 10) and the population standard deviation is unknown, we can use the t-distribution and find the critical value at a 95% confidence level with 9 degrees of freedom. The critical value is approximately 2.262.\n",
    "\n",
    "Standard error = sd / sqrt(n) = 1.16 / sqrt(10) ≈ 0.37\n",
    "\n",
    "Margin of error = critical value * standard error = 2.262 * 0.37 ≈ 0.84\n",
    "\n",
    "Confidence interval = sample mean ± margin of error = 8 ± 0.84\n",
    "\n",
    "Lower bound = 8 - 0.84 ≈ 7.16\n",
    "\n",
    "Upper bound = 8 + 0.84 ≈ 8.84\n",
    "\n",
    "Therefore, the 95% confidence interval for the population mean satisfaction score is approximately 7.16 to 8.84. This means we are 95% confident that the true population mean satisfaction score falls within this interval based on the given sample data.\n"
   ]
  },
  {
   "cell_type": "markdown",
   "id": "a03879e4",
   "metadata": {},
   "source": [
    "#### 14. Scenario: A company wants to analyze the effect of temperature on product performance. The data collected is as follows:\n",
    "    Temperature (in degrees Celsius): [20, 22, 23, 19, 21]\n",
    "    \n",
    "    Performance (on a scale of 1 to 10): [8, 7, 9, 6, 8]\n",
    "    \n",
    "    Perform a simple linear regression to predict performance based on temperature."
   ]
  },
  {
   "cell_type": "markdown",
   "id": "0b092677",
   "metadata": {},
   "source": [
    "SOLUTION:\n",
    "\n",
    "Mean of Temperature = (20 + 22 + 23 + 19 + 21) / 5 = 21\n",
    "\n",
    "Mean of Performance = (8 + 7 + 9 + 6 + 8) / 5 = 7.6\n",
    "\n",
    "Deviation of Temperature = [20-21, 22-21, 23-21, 19-21, 21-21] = [-1, 1, 2, -2, 0]\n",
    "\n",
    "Deviation of Performance = [8-7.6, 7-7.6, 9-7.6, 6-7.6, 8-7.6] = [0.4, -0.6, 1.4, -1.6, 0.4]\n",
    "\n",
    "Product of Deviations = [-1 * 0.4, 1 * -0.6, 2 * 1.4, -2 * -1.6, 0 * 0.4] = [-0.4, -0.6, 2.8, 3.2, 0]\n",
    "\n",
    "Sum of Products of Deviations = -0.4 + -0.6 + 2.8 + 3.2 + 0 = 5\n",
    "\n",
    "Sum of Squared Deviations of Temperature = (-1)^2 + 1^2 + 2^2 + (-2)^2 + 0^2 = 10\n",
    "\n",
    "Slope = Sum of Products of Deviations / Sum of Squared Deviations of Temperature = 5 / 10 = 0.5\n",
    "\n",
    "Y-Intercept = Mean of Performance - Slope * Mean of Temperature = 7.6 - (0.5 * 21) = -0.1\n",
    "\n",
    "Performance = Intercept + Slope * Temperature\n",
    "\n",
    "Performance = -0.1 + 0.5 * Temperature\n",
    "\n",
    "For example, if the temperature is 25 degrees Celsius:\n",
    "Performance = -0.1 + 0.5 * 25 = 11.4\n",
    "\n",
    "Therefore, based on the simple linear regression analysis, we can predict that the performance would be approximately 11.4 on a scale of 1 to 10 when the temperature is 25 degrees Celsius.\n"
   ]
  },
  {
   "cell_type": "markdown",
   "id": "c41591df",
   "metadata": {},
   "source": [
    "#### 16. Scenario: A company wants to analyze the distribution of customer ages. The data collected is as follows:\n",
    "    [25, 30, 35, 40, 45, 50, 55, 60, 65, 70]\n",
    "    \n",
    "    Calculate the interquartile range (IQR) of the ages."
   ]
  },
  {
   "cell_type": "markdown",
   "id": "adbf3593",
   "metadata": {},
   "source": [
    "SOLUTION:\n",
    "\n",
    "Index for Quartile 1 = (25/100) * (10+1) = 2.75 ≈ 3\n",
    "\n",
    "Quartile 1 = 35\n",
    "\n",
    "Index for Quartile 3 = (75/100) * (10+1) = 8.25 ≈ 8\n",
    "\n",
    "Quartile 3 = 60\n",
    "\n",
    "Inter Quartile Range = Q3-Q1 = 60-35 = 25"
   ]
  },
  {
   "cell_type": "markdown",
   "id": "80a9c5c0",
   "metadata": {},
   "source": [
    "#### 18. Scenario: A company wants to analyze the effect of price on sales. The data collected is as follows:\n",
    "    Price (in dollars): [10, 15, 12, 8, 14]\n",
    "    \n",
    "    Sales: [100, 80, 90, 110, 95]\n",
    "    \n",
    "    Perform a simple linear regression to predict sales based on price."
   ]
  },
  {
   "cell_type": "markdown",
   "id": "42f33a4b",
   "metadata": {},
   "source": [
    "SOLUTION:\n",
    "\n",
    "Mean of price = 11.8\n",
    "Mean of sales = 95\n",
    "\n",
    "Deviation of Price = [10-11.8, 15-11.8, 12-11.8, 8-11.8, 14-11.8] = [-1.8, 3.2, 0.2, -3.8, 2.2]\n",
    "\n",
    "Deviation of Sales = [100-95, 80-95, 90-95, 110-95, 95-95] = [5, -15, -5, 15, 0]\n",
    "\n",
    "Product of Deviations = [-1.8 * 5, 3.2 * -15, 0.2 * -5, -3.8 * 15, 2.2 * 0] = [-9, -48, -1, -57, 0]\n",
    "\n",
    "Sum of Products of Deviations = -9 + -48 + -1 + -57 + 0 = -115\n",
    "\n",
    "Sum of Squared Deviations of Price = (-1.8)^2 + (3.2)^2 + (0.2)^2 + (-3.8)^2 + (2.2)^2 = 32.08\n",
    "\n",
    "Slope = Sum of Products of Deviations / Sum of Squared Deviations of Price = -115 / 32.08 ≈ -3.59\n",
    "\n",
    "Intercept = Mean of Sales - Slope * Mean of Price = 95 - (-3.59 * 11.8) ≈ 138.79\n",
    "\n",
    "Sales = Intercept + Slope * Price\n",
    "\n",
    "Sales = 138.79 - 3.59 * Price\n",
    "\n",
    "For example, if the price is $13:\n",
    "Sales = 138.79 - 3.59 * 13 ≈ 90.74\n",
    "\n",
    "Therefore, based on the simple linear regression analysis, we can predict that the sales would be approximately 90.74 when the price is $13.\n"
   ]
  },
  {
   "cell_type": "markdown",
   "id": "ce30467f",
   "metadata": {},
   "source": [
    "#### 19. Scenario: A survey is conducted to measure the satisfaction levels of customers with a new product. The data collected is as follows:\n",
    "    [7, 8, 9, 6, 8, 7, 9, 7, 8, 7]\n",
    "    \n",
    "    Calculate the standard error of the mean satisfaction score."
   ]
  },
  {
   "cell_type": "markdown",
   "id": "dcbef179",
   "metadata": {},
   "source": [
    "SOLUTION:\n",
    "\n",
    "Sample mean (x̄) = (7 + 8 + 9 + 6 + 8 + 7 + 9 + 7 + 8 + 7) / 10 = 7.7\n",
    "\n",
    "Deviation = [7-7.7, 8-7.7, 9-7.7, 6-7.7, 8-7.7, 7-7.7, 9-7.7, 7-7.7, 8-7.7, 7-7.7] = [-0.7, 0.3, 1.3, -1.7, 0.3, -0.7, 1.3, -0.7, 0.3, -0.7]\n",
    "\n",
    "Squared deviation = [(-0.7)^2, 0.3^2, 1.3^2, (-1.7)^2, 0.3^2, (-0.7)^2, 1.3^2, (-0.7)^2, 0.3^2, (-0.7)^2] = [0.49, 0.09, 1.69, 2.89, 0.09, 0.49, 1.69, 0.49, 0.09, 0.49]\n",
    "\n",
    "Sum of squared deviations = 0.49 + 0.09 + 1.69 + 2.89 + 0.09 + 0.49 + 1.69 + 0.49 + 0.09 + 0.49 = 8.01\n",
    "\n",
    "Variance = Sum of squared deviations / (n-1) = 8.01 / (10-1) ≈ 0.891\n",
    "\n",
    "Standard Deviation = Sqrt(variance) = sqrt(0.891) ≈ 0.944\n",
    "\n",
    "Standard error of the mean = Standard deviation / sqrt(n) = 0.944 / sqrt(10) ≈ 0.298"
   ]
  },
  {
   "cell_type": "markdown",
   "id": "00f1e731",
   "metadata": {},
   "source": [
    "#### 20. Scenario: A company wants to analyze the relationship between advertising expenditure and sales. The data collected is as follows:\n",
    "    Advertising Expenditure (in thousands): [10, 15, 12, 8, 14]\n",
    "    \n",
    "    Sales (in thousands): [25, 30, 28, 20, 26]\n",
    "    \n",
    "    Perform a multiple regression analysis to predict sales based on advertising expenditure."
   ]
  },
  {
   "cell_type": "markdown",
   "id": "e111a598",
   "metadata": {},
   "source": [
    "SOLUTION:\n",
    "\n",
    "Mean of Advertising Expenditure = (10 + 15 + 12 + 8 + 14) / 5 = 11.8\n",
    "\n",
    "Mean of Sales = (25 + 30 + 28 + 20 + 26) / 5 = 25.8\n",
    "\n",
    "Deviation of Advertising Expenditure = [10-11.8, 15-11.8, 12-11.8, 8-11.8, 14-11.8] = [-1.8, 3.2, 0.2, -3.8, 2.2]\n",
    "\n",
    "Deviation of Sales = [25-25.8, 30-25.8, 28-25.8, 20-25.8, 26-25.8] = [-0.8, 4.2, 2.2, -5.8, 0.2]\n",
    "\n",
    "Product of Deviations = [-1.8 * -0.8, 3.2 * 4.2, 0.2 * 2.2, -3.8 * -5.8, 2.2 * 0.2] = [1.44, 13.44, 0.44, 22.04, 0.44]\n",
    "\n",
    "Sum of Products of Deviations = 1.44 + 13.44 + 0.44 + 22.04 + 0.44 = 37.8\n",
    "\n",
    "Sum of Squared Deviations of Advertising Expenditure = (-1.8)^2 + 3.2^2 + 0.2^2 + (-3.8)^2 + 2.2^2 = 32.08\n",
    "\n",
    "Sum of Squared Deviations of Sales = (-0.8)^2 + 4.2^2 + 2.2^2 + (-5.8)^2 + 0.2^2 = 67.68\n",
    "\n",
    "Slope = Sum of Products of Deviations / Sum of Squared Deviations of Advertising Expenditure = 37.8 / 32.08 ≈ 1.177\n",
    "\n",
    "Intercept = Mean of Sales - Slope * Mean of Advertising Expenditure = 25.8 - (1.177 * 11.8) ≈ 11.421\n",
    "\n",
    "Sales = Intercept + Slope * Advertising Expenditure\n",
    "\n",
    "Sales = 11.421 + 1.177 * Advertising Expenditure\n",
    "\n",
    "For example, if the advertising expenditure is $9,000 (in thousands):\n",
    "Sales = 11.421 + 1.177 * 9 ≈ 22.313\n",
    "\n",
    "Therefore, based on the multiple regression analysis, we can predict that the sales would be approximately $22,313 when the advertising expenditure is $9,000."
   ]
  }
 ],
 "metadata": {
  "kernelspec": {
   "display_name": "Python 3",
   "language": "python",
   "name": "python3"
  },
  "language_info": {
   "codemirror_mode": {
    "name": "ipython",
    "version": 3
   },
   "file_extension": ".py",
   "mimetype": "text/x-python",
   "name": "python",
   "nbconvert_exporter": "python",
   "pygments_lexer": "ipython3",
   "version": "3.8.8"
  }
 },
 "nbformat": 4,
 "nbformat_minor": 5
}
