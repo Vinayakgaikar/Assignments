{
 "cells": [
  {
   "cell_type": "code",
   "execution_count": 5,
   "id": "51f354cd",
   "metadata": {},
   "outputs": [
    {
     "name": "stdout",
     "output_type": "stream",
     "text": [
      "irasnA namoN dhoM\n",
      "sseccus\n"
     ]
    }
   ],
   "source": [
    "#1. Write a Python program to reverse a string without using any built-in string reversal functions.\n",
    "\n",
    "def reverse_string(input_string):\n",
    "    reversed_string = \"\"\n",
    "    for i in range(len(input_string) - 1, -1, -1):\n",
    "        reversed_string += input_string[i]\n",
    "    return reversed_string\n",
    "\n",
    "print(reverse_string(\"Mohd Noman Ansari\"))\n",
    "print(reverse_string(\"success\"))"
   ]
  },
  {
   "cell_type": "code",
   "execution_count": 81,
   "id": "d78e7f98",
   "metadata": {},
   "outputs": [
    {
     "name": "stdout",
     "output_type": "stream",
     "text": [
      "True\n",
      "False\n"
     ]
    }
   ],
   "source": [
    "#2. Implement a function to check if a given string is a palindrome.\n",
    "\n",
    "def palindrome(input_string):\n",
    "    reversed_string = \"\"\n",
    "    for i in range(len(input_string) - 1, -1, -1):\n",
    "        reversed_string += input_string[i]\n",
    "    return input_string == reversed_string\n",
    "\n",
    "print(palindrome(\"madam\"))\n",
    "print(palindrome(\"okay\"))\n",
    "    "
   ]
  },
  {
   "cell_type": "code",
   "execution_count": 6,
   "id": "afc01ea2",
   "metadata": {},
   "outputs": [
    {
     "name": "stdout",
     "output_type": "stream",
     "text": [
      "90\n"
     ]
    }
   ],
   "source": [
    "#3. Write a program to find the largest element in a given list.\n",
    "\n",
    "def find_largest_element(input_list):\n",
    "    largest = input_list[0]\n",
    "    \n",
    "    for num in input_list:\n",
    "        if num > largest:\n",
    "            largest = num\n",
    "    \n",
    "    return largest\n",
    "\n",
    "nums = [10,20,30,40,50,90]\n",
    "print(find_largest_element(nums))"
   ]
  },
  {
   "cell_type": "code",
   "execution_count": 7,
   "id": "c4f1bae7",
   "metadata": {},
   "outputs": [
    {
     "name": "stdout",
     "output_type": "stream",
     "text": [
      "{1: 2, 2: 4, 3: 5, 4: 4, 6: 3, 7: 2, 8: 2, 5: 2, 9: 1}\n"
     ]
    }
   ],
   "source": [
    "#4. Implement a function to count the occurrence of each element in a list.\n",
    "\n",
    "def count_occurrences(input_list):\n",
    "    occurrence_count = {}\n",
    "\n",
    "    for element in input_list:\n",
    "        if element in occurrence_count:\n",
    "            occurrence_count[element] += 1\n",
    "        else:\n",
    "            occurrence_count[element] = 1\n",
    "\n",
    "    return occurrence_count\n",
    "\n",
    "input = [1,2,2,2,3,4,3,4,3,6,7,8,6,5,4,3,2,3,4,5,6,7,8,9,1]\n",
    "print(count_occurrences(input))"
   ]
  },
  {
   "cell_type": "code",
   "execution_count": 8,
   "id": "9722b292",
   "metadata": {},
   "outputs": [
    {
     "name": "stdout",
     "output_type": "stream",
     "text": [
      "60\n"
     ]
    }
   ],
   "source": [
    "#5. Write a Python program to find the second largest number in a list.\n",
    "\n",
    "def find_second_largest(nums):\n",
    "    largest = float('-inf')  # Assume the largest number is negative infinity\n",
    "    second_largest = float('-inf')  # Assume the second largest number is negative infinity\n",
    "    \n",
    "    for num in nums:\n",
    "        if num > largest:\n",
    "            second_largest = largest\n",
    "            largest = num\n",
    "        elif num > second_largest and num != largest:\n",
    "            second_largest = num\n",
    "    \n",
    "    return second_largest\n",
    "\n",
    "inp = [10,2,30,40,50,60,90]\n",
    "print(find_second_largest(inp))"
   ]
  },
  {
   "cell_type": "code",
   "execution_count": 9,
   "id": "092f690f",
   "metadata": {},
   "outputs": [
    {
     "name": "stdout",
     "output_type": "stream",
     "text": [
      "[0, 40, 10, 50, 20, 60, 30]\n"
     ]
    }
   ],
   "source": [
    "#6. Implement a function to remove duplicate elements from a list.\n",
    "\n",
    "def remove_duplicates(input_list):\n",
    "    return list(set(input_list))\n",
    "\n",
    "lis = [10,20,30,40,40,40,0,50,60]\n",
    "print(remove_duplicates(lis))"
   ]
  },
  {
   "cell_type": "code",
   "execution_count": 13,
   "id": "a01e903d",
   "metadata": {},
   "outputs": [
    {
     "name": "stdout",
     "output_type": "stream",
     "text": [
      "120\n"
     ]
    }
   ],
   "source": [
    "#7. Write a program to calculate the factorial of a given number.\n",
    "\n",
    "def factorial(n):\n",
    "    fact = 1\n",
    "    for i in range(1,n+1):\n",
    "        fact = fact*i\n",
    "    return fact\n",
    "\n",
    "print(factorial(5))"
   ]
  },
  {
   "cell_type": "code",
   "execution_count": 14,
   "id": "d09aeac3",
   "metadata": {},
   "outputs": [
    {
     "name": "stdout",
     "output_type": "stream",
     "text": [
      "True\n",
      "False\n"
     ]
    }
   ],
   "source": [
    "#8. Implement a function to check if a given number is prime.\n",
    "\n",
    "def is_prime(number):\n",
    "    if number <= 1:\n",
    "        return False\n",
    "    \n",
    "    for i in range(2, int(number**0.5) + 1):\n",
    "        if number % i == 0:\n",
    "            return False\n",
    "    \n",
    "    return True\n",
    "\n",
    "print(is_prime(3))\n",
    "print(is_prime(12))"
   ]
  },
  {
   "cell_type": "code",
   "execution_count": 16,
   "id": "8dfb9833",
   "metadata": {},
   "outputs": [
    {
     "name": "stdout",
     "output_type": "stream",
     "text": [
      "[1, 3, 4, 5, 6, 8, 10, 12]\n"
     ]
    }
   ],
   "source": [
    "#9. Write a Python program to sort a list of integers in ascending order.\n",
    "\n",
    "#Using bubble sort\n",
    "def bubble_sort(nums):\n",
    "    n = len(nums)\n",
    "    for i in range(n-1):\n",
    "        for j in range(n-1-i):\n",
    "            if(nums[j] > nums[j+1]):\n",
    "                t = nums[j]\n",
    "                nums[j] = nums[j+1]\n",
    "                nums[j+1] = t\n",
    "    return nums            \n",
    "                \n",
    "nums = [5,6,4,8,10,1,12,3]\n",
    "print(bubble_sort(nums))"
   ]
  },
  {
   "cell_type": "code",
   "execution_count": 17,
   "id": "808b77ed",
   "metadata": {},
   "outputs": [
    {
     "name": "stdout",
     "output_type": "stream",
     "text": [
      "55\n"
     ]
    }
   ],
   "source": [
    "#10. Implement a function to find the sum of all numbers in a list.\n",
    "\n",
    "def num_sum(nums):\n",
    "    sum=0\n",
    "    for i in nums:\n",
    "        sum = sum+i\n",
    "    return sum\n",
    "\n",
    "print(num_sum([1,2,3,4,5,6,7,8,9,10]))"
   ]
  },
  {
   "cell_type": "code",
   "execution_count": 18,
   "id": "21207600",
   "metadata": {},
   "outputs": [
    {
     "name": "stdout",
     "output_type": "stream",
     "text": [
      "[2, 6, 7, 8, 9]\n"
     ]
    }
   ],
   "source": [
    "#11. Write a program to find the common elements between two lists.\n",
    "\n",
    "def find_common(list1,list2):\n",
    "    common_elements = []\n",
    "    \n",
    "    for element in list1:\n",
    "        if element in list2 and element not in common_elements:\n",
    "            common_elements.append(element)\n",
    "    \n",
    "    return common_elements\n",
    "\n",
    "l1=[1,2,3,4,5,6,7,8,9]\n",
    "l2=[6,7,8,9,10,2,11]\n",
    "print(find_common(l1,l2))"
   ]
  },
  {
   "cell_type": "code",
   "execution_count": 19,
   "id": "733f4491",
   "metadata": {},
   "outputs": [
    {
     "name": "stdout",
     "output_type": "stream",
     "text": [
      "True\n",
      "False\n"
     ]
    }
   ],
   "source": [
    "#12. Implement a function to check if a given string is an anagram of another string.\n",
    "def is_anagram(string1, string2):\n",
    "    # Convert strings to lowercase and remove whitespace\n",
    "    string1 = string1.lower().replace(\" \", \"\")\n",
    "    string2 = string2.lower().replace(\" \", \"\")\n",
    "    \n",
    "    # Check if the sorted strings are equal\n",
    "    return sorted(string1) == sorted(string2)\n",
    "\n",
    "print(is_anagram(\"madam\",\"adamm\"))\n",
    "print(is_anagram(\"nomaan\",\"ansari\"))"
   ]
  },
  {
   "cell_type": "code",
   "execution_count": 21,
   "id": "347c813e",
   "metadata": {},
   "outputs": [
    {
     "name": "stdout",
     "output_type": "stream",
     "text": [
      "['okay', 'okya', 'oaky', 'oayk', 'oyka', 'oyak', 'koay', 'koya', 'kaoy', 'kayo', 'kyoa', 'kyao', 'aoky', 'aoyk', 'akoy', 'akyo', 'ayok', 'ayko', 'yoka', 'yoak', 'ykoa', 'ykao', 'yaok', 'yako']\n"
     ]
    }
   ],
   "source": [
    "#13. Write a Python program to generate all permutations of a given string.\n",
    "\n",
    "def permute_string(string):\n",
    "    # Base case: If the string is empty, return an empty list\n",
    "    if len(string) == 0:\n",
    "        return []\n",
    "\n",
    "    # Base case: If the string has only one character, return the string itself as a single permutation\n",
    "    if len(string) == 1:\n",
    "        return [string]\n",
    "\n",
    "    permutations = []  # List to store the permutations\n",
    "\n",
    "    for i in range(len(string)):\n",
    "        # Extract the current character\n",
    "        current_char = string[i]\n",
    "\n",
    "        # Generate all permutations of the remaining characters\n",
    "        remaining_chars = string[:i] + string[i+1:]\n",
    "        sub_permutations = permute_string(remaining_chars)\n",
    "\n",
    "        # Add the current character to each permutation of the remaining characters\n",
    "        for sub_permutation in sub_permutations:\n",
    "            permutations.append(current_char + sub_permutation)\n",
    "\n",
    "    return permutations\n",
    "\n",
    "print(permute_string(\"okay\"))"
   ]
  },
  {
   "cell_type": "code",
   "execution_count": 22,
   "id": "f07cec2b",
   "metadata": {},
   "outputs": [
    {
     "name": "stdout",
     "output_type": "stream",
     "text": [
      "[0, 1, 1, 2, 3, 5, 8, 13, 21]\n"
     ]
    }
   ],
   "source": [
    "#14. Implement a function to calculate the Fibonacci sequence up to a given number of terms.\n",
    "def fibonacci(n):\n",
    "    sequence = []\n",
    "\n",
    "    if n >= 1:\n",
    "        sequence.append(0)\n",
    "    if n >= 2:\n",
    "        sequence.append(1)\n",
    "\n",
    "    for i in range(2, n):\n",
    "        next_number = sequence[i - 1] + sequence[i - 2]\n",
    "        sequence.append(next_number)\n",
    "\n",
    "    return sequence\n",
    "\n",
    "print(fibonacci(9))"
   ]
  },
  {
   "cell_type": "code",
   "execution_count": 25,
   "id": "38d4b7c6",
   "metadata": {},
   "outputs": [
    {
     "name": "stdout",
     "output_type": "stream",
     "text": [
      "4\n",
      "3.5\n"
     ]
    }
   ],
   "source": [
    "#15. Write a program to find the median of a list of numbers.\n",
    "\n",
    "def find_median(numbers):\n",
    "    sorted_numbers = sorted(numbers)\n",
    "    n = len(sorted_numbers)\n",
    "    mid = n // 2\n",
    "\n",
    "    if n % 2 == 0:\n",
    "        # If the number of elements is even, take the average of the two middle numbers\n",
    "        median = (sorted_numbers[mid - 1] + sorted_numbers[mid]) / 2\n",
    "    else:\n",
    "        # If the number of elements is odd, take the middle number\n",
    "        median = sorted_numbers[mid]\n",
    "\n",
    "    return median\n",
    "\n",
    "print(find_median([1,2,3,4,5,6,7]))\n",
    "print(find_median([1,2,3,4,5,7]))"
   ]
  },
  {
   "cell_type": "code",
   "execution_count": 30,
   "id": "16e1b7b7",
   "metadata": {},
   "outputs": [
    {
     "name": "stdout",
     "output_type": "stream",
     "text": [
      "False\n",
      "True\n"
     ]
    }
   ],
   "source": [
    "#16. Implement a function to check if a given list is sorted in non-decreasing order.\n",
    "\n",
    "def check_sorted(nums):\n",
    "    n = len(nums)\n",
    "\n",
    "    for i in range(1, n):\n",
    "        if nums[i] < nums[i - 1]:\n",
    "            return False\n",
    "\n",
    "    return True\n",
    "    \n",
    "print(check_sorted([1,3,2,4,5,6,7,8]))    \n",
    "print(check_sorted([1,2,3,4,5,6,7,8]))"
   ]
  },
  {
   "cell_type": "code",
   "execution_count": 31,
   "id": "31277822",
   "metadata": {},
   "outputs": [
    {
     "name": "stdout",
     "output_type": "stream",
     "text": [
      "[4, 5]\n"
     ]
    }
   ],
   "source": [
    "#17. Write a Python program to find the intersection of two lists.\n",
    "\n",
    "def find_intersection(list1, list2):\n",
    "    intersection = []\n",
    "\n",
    "    for element in list1:\n",
    "        if element in list2 and element not in intersection:\n",
    "            intersection.append(element)\n",
    "\n",
    "    return intersection\n",
    "\n",
    "l1 = [1, 2, 3, 4, 5]\n",
    "l2 = [4, 5, 6, 7, 8]\n",
    "print(find_intersection(l1,l2))"
   ]
  },
  {
   "cell_type": "code",
   "execution_count": 33,
   "id": "3beaaa25",
   "metadata": {},
   "outputs": [
    {
     "name": "stdout",
     "output_type": "stream",
     "text": [
      "15\n"
     ]
    }
   ],
   "source": [
    "#18. Implement a function to find the maximum subarray sum in a given list.\n",
    "\n",
    "#Using Kadane's Algorithm\n",
    "def max_subarray(nums):\n",
    "    sum=0\n",
    "    max = float('-inf')\n",
    "    for i in nums:\n",
    "        sum = sum + i\n",
    "        \n",
    "        if sum > max:\n",
    "            max = sum\n",
    "        else:\n",
    "            sum=0\n",
    "    return max\n",
    "\n",
    "print(max_subarray([-1,-2,-3,1,2,3,4,5]))"
   ]
  },
  {
   "cell_type": "code",
   "execution_count": 34,
   "id": "5e0b3200",
   "metadata": {},
   "outputs": [
    {
     "name": "stdout",
     "output_type": "stream",
     "text": [
      "nmn\n"
     ]
    }
   ],
   "source": [
    "#19. Write a program to remove all vowels from a given string.\n",
    "def remove_vowels(str):\n",
    "    res = \"\"\n",
    "    vowels = \"aeiouAEIOU\"\n",
    "    \n",
    "    for ch in str:\n",
    "        if ch not in vowels:\n",
    "            res = res + ch\n",
    "    return res\n",
    "\n",
    "print(remove_vowels(\"nomaan\"))"
   ]
  },
  {
   "cell_type": "code",
   "execution_count": 35,
   "id": "9720232f",
   "metadata": {},
   "outputs": [
    {
     "name": "stdout",
     "output_type": "stream",
     "text": [
      "Ansari Noman Mohd\n"
     ]
    }
   ],
   "source": [
    "#20. Implement a function to reverse the order of words in a given sentence.\n",
    "\n",
    "def reverse_words(sentence):\n",
    "    words = sentence.split()\n",
    "    reversed_words = \" \".join(words[::-1])\n",
    "    return reversed_words\n",
    "\n",
    "print(reverse_words(\"Mohd Noman Ansari\"))"
   ]
  },
  {
   "cell_type": "code",
   "execution_count": 36,
   "id": "25f834f9",
   "metadata": {},
   "outputs": [
    {
     "name": "stdout",
     "output_type": "stream",
     "text": [
      "True\n",
      "False\n"
     ]
    }
   ],
   "source": [
    "#21. Write a Python program to check if two strings are anagrams of each other.\n",
    "\n",
    "def is_anagram(string1, string2):\n",
    "    # Convert strings to lowercase and remove whitespace\n",
    "    string1 = string1.lower().replace(\" \", \"\")\n",
    "    string2 = string2.lower().replace(\" \", \"\")\n",
    "    \n",
    "    # Check if the sorted strings are equal\n",
    "    return sorted(string1) == sorted(string2)\n",
    "\n",
    "print(is_anagram(\"madam\",\"adamm\"))\n",
    "print(is_anagram(\"nomaan\",\"ansari\"))"
   ]
  },
  {
   "cell_type": "code",
   "execution_count": 37,
   "id": "b4e3a5e2",
   "metadata": {},
   "outputs": [
    {
     "name": "stdout",
     "output_type": "stream",
     "text": [
      "d\n"
     ]
    }
   ],
   "source": [
    "#22. Implement a function to find the first non-repeating character in a string.\n",
    "\n",
    "def find_first_non_repeating_char(string):\n",
    "    char_count = {}\n",
    "\n",
    "    for char in string:\n",
    "        char_count[char] = char_count.get(char, 0) + 1\n",
    "        \n",
    "    for char in string:\n",
    "        if char_count[char] == 1:\n",
    "            return char\n",
    "\n",
    "    return None\n",
    "\n",
    "print(find_first_non_repeating_char(\"madam\"))"
   ]
  },
  {
   "cell_type": "code",
   "execution_count": 49,
   "id": "e676db37",
   "metadata": {},
   "outputs": [
    {
     "name": "stdout",
     "output_type": "stream",
     "text": [
      "[2, 3, 5]\n"
     ]
    }
   ],
   "source": [
    "#23. Write a program to find the prime factors of a given number.\n",
    "\n",
    "def prime_factors(n):\n",
    "    factors = []\n",
    "    div = 2\n",
    "    \n",
    "    for i in range(2,n):\n",
    "        if n%div == 0:\n",
    "            factors.append(div)\n",
    "            while n % div == 0:\n",
    "                n = n/div\n",
    "        else:\n",
    "            div = div+1\n",
    "    return factors\n",
    "\n",
    "print(prime_factors(30))"
   ]
  },
  {
   "cell_type": "code",
   "execution_count": 51,
   "id": "610a1d0b",
   "metadata": {},
   "outputs": [
    {
     "name": "stdout",
     "output_type": "stream",
     "text": [
      "True\n",
      "False\n"
     ]
    }
   ],
   "source": [
    "#24. Implement a function to check if a given number is a power of two.\n",
    "\n",
    "def is_power_of_two(n):\n",
    "    if n <= 0:\n",
    "        return False\n",
    "\n",
    "    while n > 1:\n",
    "        if n % 2 != 0:\n",
    "            return False\n",
    "        n = n/ 2\n",
    "\n",
    "    return True\n",
    "\n",
    "print(is_power_of_two(32))\n",
    "print(is_power_of_two(30))"
   ]
  },
  {
   "cell_type": "code",
   "execution_count": 72,
   "id": "e7baca3e",
   "metadata": {},
   "outputs": [
    {
     "name": "stdout",
     "output_type": "stream",
     "text": [
      "[5, 10, 15, 20, 25, 30, 35, 40, 45, 50]\n"
     ]
    }
   ],
   "source": [
    "#25. Write a Python program to merge two sorted lists into a single sorted list.\n",
    "\n",
    "def merge_sorted_lists(list1, list2):\n",
    "    merged_list = []\n",
    "    i = 0\n",
    "    j = 0\n",
    "\n",
    "    while i < len(list1) and j < len(list2):\n",
    "        if list1[i] <= list2[j]:\n",
    "            merged_list.append(list1[i])\n",
    "            i += 1\n",
    "        else:\n",
    "            merged_list.append(list2[j])\n",
    "            j += 1\n",
    "\n",
    "    # Add any remaining elements from list1\n",
    "    while i < len(list1):\n",
    "        merged_list.append(list1[i])\n",
    "        i += 1\n",
    "\n",
    "    # Add any remaining elements from list2\n",
    "    while j < len(list2):\n",
    "        merged_list.append(list2[j])\n",
    "        j += 1\n",
    "\n",
    "    return merged_list\n",
    "\n",
    "l1 = [10,20,30,40,50]\n",
    "l2 = [5,15,25,35,45]\n",
    "print(merge_sorted_lists(l1,l2))"
   ]
  },
  {
   "cell_type": "code",
   "execution_count": 74,
   "id": "f7e9babb",
   "metadata": {},
   "outputs": [
    {
     "name": "stdout",
     "output_type": "stream",
     "text": [
      "[20]\n"
     ]
    }
   ],
   "source": [
    "#26. Implement a function to find the mode of a list of numbers.\n",
    "\n",
    "def find_mode(numbers):\n",
    "    mode = []\n",
    "    count_dict = {}\n",
    "\n",
    "    # Count the occurrences of each number\n",
    "    for num in numbers:\n",
    "        if num in count_dict:\n",
    "            count_dict[num] += 1\n",
    "        else:\n",
    "            count_dict[num] = 1\n",
    "\n",
    "    # Find the maximum count\n",
    "    max_count = max(count_dict.values())\n",
    "\n",
    "    # Find the numbers with the maximum count\n",
    "    for num, count in count_dict.items():\n",
    "        if count == max_count:\n",
    "            mode.append(num)\n",
    "\n",
    "    return mode\n",
    "\n",
    "print(find_mode([10,20,20,20,30]))"
   ]
  },
  {
   "cell_type": "code",
   "execution_count": 75,
   "id": "7b2cfdba",
   "metadata": {},
   "outputs": [
    {
     "name": "stdout",
     "output_type": "stream",
     "text": [
      "5\n"
     ]
    }
   ],
   "source": [
    "#27. Write a program to find the greatest common divisor (GCD) of two numbers.\n",
    "\n",
    "def gcd(a, b):\n",
    "    while b != 0:\n",
    "        temp = b\n",
    "        b = a % b\n",
    "        a = temp\n",
    "    return a\n",
    "\n",
    "print(gcd(10,15))"
   ]
  },
  {
   "cell_type": "code",
   "execution_count": 79,
   "id": "e863fbbd",
   "metadata": {},
   "outputs": [
    {
     "name": "stdout",
     "output_type": "stream",
     "text": [
      "2\n",
      "4\n"
     ]
    }
   ],
   "source": [
    "#28. Implement a function to calculate the square root of a given number.\n",
    "\n",
    "def square_root(n):\n",
    "    if n < 0:\n",
    "        raise ValueError(\"Square root is not defined for negative numbers.\")\n",
    "\n",
    "    if n == 0:\n",
    "        return 0\n",
    "\n",
    "    x = n\n",
    "    y = (x + 1) // 2\n",
    "\n",
    "    while y < x:\n",
    "        x = y\n",
    "        y = (x + n // x) // 2\n",
    "\n",
    "    return x\n",
    "\n",
    "print(square_root(4))\n",
    "print(square_root(18))"
   ]
  },
  {
   "cell_type": "code",
   "execution_count": 105,
   "id": "2f59ae88",
   "metadata": {},
   "outputs": [
    {
     "name": "stdout",
     "output_type": "stream",
     "text": [
      "True\n",
      "False\n",
      "True\n"
     ]
    }
   ],
   "source": [
    "#29. Write a Python program to check if a given string is a valid palindrome ignoring non-alphanumeric characters.\n",
    "\n",
    "def palindrome(s):\n",
    "    # Remove non-alphanumeric characters and convert to lowercase\n",
    "    cleaned_s = ''.join(c.lower() for c in s if c.isalnum())\n",
    "\n",
    "    # Check if the cleaned string is a palindrome\n",
    "    return cleaned_s == cleaned_s[::-1]\n",
    "\n",
    "print(palindrome(\"Mada@m\"))\n",
    "print(palindrome(\"o.Kay\"))\n",
    "print(palindrome(\"Ma..D:aM\"))"
   ]
  },
  {
   "cell_type": "code",
   "execution_count": 93,
   "id": "7ef61c7b",
   "metadata": {},
   "outputs": [
    {
     "name": "stdout",
     "output_type": "stream",
     "text": [
      "1\n"
     ]
    }
   ],
   "source": [
    "#30. Implement a function to find the minimum element in a rotated sorted list\n",
    "def find_min(nums):\n",
    "        start =0\n",
    "        end = len(nums)-1\n",
    "        \n",
    "        if nums[start] <= nums[end]:\n",
    "            return nums[start]\n",
    "        \n",
    "        while start < end:\n",
    "            mid = int((start + end) /2)\n",
    "            \n",
    "            if nums[mid] > nums[end]:\n",
    "                start = mid+1\n",
    "            else:\n",
    "                end = mid\n",
    "                \n",
    "        return nums[start]    \n",
    "    \n",
    "print(find_min([4,5,6,7,1,2,3]))    "
   ]
  },
  {
   "cell_type": "code",
   "execution_count": 94,
   "id": "8eee7eb3",
   "metadata": {},
   "outputs": [
    {
     "name": "stdout",
     "output_type": "stream",
     "text": [
      "30\n"
     ]
    }
   ],
   "source": [
    "#31. Write a program to find the sum of all even numbers in a list.\n",
    "\n",
    "def even_sum(nums):\n",
    "    sum=0\n",
    "    for i in nums:\n",
    "        if i%2 == 0:\n",
    "            sum = sum + i\n",
    "    return sum\n",
    "\n",
    "print(even_sum([1,2,3,4,5,6,7,8,9,10]))"
   ]
  },
  {
   "cell_type": "code",
   "execution_count": 95,
   "id": "06f1b03a",
   "metadata": {},
   "outputs": [
    {
     "name": "stdout",
     "output_type": "stream",
     "text": [
      "8\n"
     ]
    }
   ],
   "source": [
    "#32. Implement a function to calculate the power of a number using recursion.\n",
    "\n",
    "def power(base, exponent):\n",
    "    if exponent == 0:\n",
    "        return 1\n",
    "    elif exponent < 0:\n",
    "        return 1 / power(base, -exponent)\n",
    "    else:\n",
    "        return base * power(base, exponent - 1)\n",
    "    \n",
    "print(power(2,3))    "
   ]
  },
  {
   "cell_type": "code",
   "execution_count": 96,
   "id": "d2483c33",
   "metadata": {},
   "outputs": [
    {
     "name": "stdout",
     "output_type": "stream",
     "text": [
      "[1, 2, 3, 4, 5, 6, 7, 8, 9]\n"
     ]
    }
   ],
   "source": [
    "#33. Write a Python program to remove duplicates from a list while preserving the order.\n",
    "\n",
    "def remove_duplicates(lst):\n",
    "    seen = set()\n",
    "    result = []\n",
    "    for item in lst:\n",
    "        if item not in seen:\n",
    "            seen.add(item)\n",
    "            result.append(item)\n",
    "    return result\n",
    "\n",
    "print(remove_duplicates([1,2,3,4,4,4,4,5,5,6,7,6,7,8,9]))"
   ]
  },
  {
   "cell_type": "code",
   "execution_count": 97,
   "id": "c6375dd1",
   "metadata": {},
   "outputs": [
    {
     "name": "stdout",
     "output_type": "stream",
     "text": [
      "fl\n"
     ]
    }
   ],
   "source": [
    "#34. Implement a function to find the longest common prefix among a list of strings.\n",
    "\n",
    "def longest_common_prefix(strs):\n",
    "    if not strs:\n",
    "        return \"\"\n",
    "\n",
    "    prefix = strs[0]\n",
    "    for i in range(1, len(strs)):\n",
    "        while strs[i].find(prefix) != 0:\n",
    "            prefix = prefix[:-1]\n",
    "            if not prefix:\n",
    "                return \"\"\n",
    "    \n",
    "    return prefix\n",
    "\n",
    "print(longest_common_prefix([\"flow\",\"flower\",\"flight\",\"flown\"]))"
   ]
  },
  {
   "cell_type": "code",
   "execution_count": 98,
   "id": "a297ae63",
   "metadata": {},
   "outputs": [
    {
     "name": "stdout",
     "output_type": "stream",
     "text": [
      "True\n"
     ]
    }
   ],
   "source": [
    "#35. Write a program to check if a given number is a perfect square\n",
    "\n",
    "def is_perfect_square(num):\n",
    "    if num < 0:\n",
    "        return False\n",
    "\n",
    "    if num == 0:\n",
    "        return True\n",
    "\n",
    "    left = 1\n",
    "    right = num\n",
    "\n",
    "    while left <= right:\n",
    "        mid = (left + right) // 2\n",
    "        square = mid * mid\n",
    "\n",
    "        if square == num:\n",
    "            return True\n",
    "        elif square < num:\n",
    "            left = mid + 1\n",
    "        else:\n",
    "            right = mid - 1\n",
    "\n",
    "    return False\n",
    "\n",
    "print(is_perfect_square(16))"
   ]
  },
  {
   "cell_type": "code",
   "execution_count": 99,
   "id": "cb5a6df4",
   "metadata": {},
   "outputs": [
    {
     "name": "stdout",
     "output_type": "stream",
     "text": [
      "720\n"
     ]
    }
   ],
   "source": [
    "#36. Implement a function to calculate the product of all elements in a list.\n",
    "\n",
    "def prod(nums):\n",
    "    p = 1\n",
    "    \n",
    "    for i in nums:\n",
    "        p = p*i\n",
    "    return p    \n",
    "        \n",
    "print(prod([2,3,4,5,6]))    "
   ]
  },
  {
   "cell_type": "code",
   "execution_count": 100,
   "id": "0c3b892c",
   "metadata": {},
   "outputs": [
    {
     "name": "stdout",
     "output_type": "stream",
     "text": [
      "Ansari Noman Mohd\n"
     ]
    }
   ],
   "source": [
    "#37. Write a Python program to reverse the order of words in a sentence while preserving the word order.\n",
    "\n",
    "def reverse_words(sentence):\n",
    "    words = sentence.split()\n",
    "    reversed_words = \" \".join(words[::-1])\n",
    "    return reversed_words\n",
    "\n",
    "print(reverse_words(\"Mohd Noman Ansari\"))"
   ]
  },
  {
   "cell_type": "code",
   "execution_count": 101,
   "id": "94640e4b",
   "metadata": {},
   "outputs": [
    {
     "name": "stdout",
     "output_type": "stream",
     "text": [
      "5\n"
     ]
    }
   ],
   "source": [
    "#38. Implement a function to find the missing number in a given list of consecutive numbers.\n",
    "\n",
    "def find_missing_number(numbers):\n",
    "    n = len(numbers) + 1\n",
    "    total_sum = (n * (n + 1)) // 2\n",
    "    actual_sum = sum(numbers)\n",
    "    missing_number = total_sum - actual_sum\n",
    "    return missing_number\n",
    "\n",
    "print(find_missing_number([1,2,3,4,6,7,8,9]))"
   ]
  },
  {
   "cell_type": "code",
   "execution_count": 103,
   "id": "fb483ee7",
   "metadata": {},
   "outputs": [
    {
     "name": "stdout",
     "output_type": "stream",
     "text": [
      "10\n"
     ]
    }
   ],
   "source": [
    "#39. Write a program to find the sum of digits of a given number.\n",
    "\n",
    "def sum_dig(num):\n",
    "    sum =0\n",
    "    \n",
    "    while num > 0:\n",
    "        d = num % 10\n",
    "        sum = sum + d\n",
    "        num = num//10\n",
    "    return sum\n",
    "\n",
    "print(sum_dig(1234))"
   ]
  },
  {
   "cell_type": "code",
   "execution_count": 111,
   "id": "f140e5fc",
   "metadata": {},
   "outputs": [
    {
     "name": "stdout",
     "output_type": "stream",
     "text": [
      "False\n",
      "True\n"
     ]
    }
   ],
   "source": [
    "#40. Implement a function to check if a given string is a valid palindrome considering case sensitivity.\n",
    "\n",
    "def palin(str):\n",
    "    s = str[::-1]\n",
    "    \n",
    "    return str==s\n",
    "\n",
    "print(palin(\"MaDam\"))\n",
    "print(palin(\"MaDaM\"))\n"
   ]
  },
  {
   "cell_type": "code",
   "execution_count": 114,
   "id": "0a34a5ee",
   "metadata": {},
   "outputs": [
    {
     "name": "stdout",
     "output_type": "stream",
     "text": [
      "4\n"
     ]
    }
   ],
   "source": [
    "#41. Write a Python program to find the smallest missing positive integer in a list.\n",
    "\n",
    "def find_smallest_missing_positive(nums):\n",
    "    # Move all positive integers to the front of the list\n",
    "    n = len(nums)\n",
    "    i = 0\n",
    "    while i < n:\n",
    "        if 0 < nums[i] <= n and nums[nums[i] - 1] != nums[i]:\n",
    "            # Swap the current number to its correct position\n",
    "            nums[nums[i] - 1], nums[i] = nums[i], nums[nums[i] - 1]\n",
    "        else:\n",
    "            i += 1\n",
    "\n",
    "    # Find the first index where the value is not equal to the index + 1\n",
    "    for i in range(n):\n",
    "        if nums[i] != i + 1:\n",
    "            return i + 1\n",
    "\n",
    "    # If all positive integers are present, the smallest missing positive is n + 1\n",
    "    return n + 1\n",
    "\n",
    "print(find_smallest_missing_positive([1,2,3,5,6,7,8,9,10,11]))"
   ]
  },
  {
   "cell_type": "code",
   "execution_count": 127,
   "id": "b66e00be",
   "metadata": {},
   "outputs": [
    {
     "name": "stdout",
     "output_type": "stream",
     "text": [
      "madam\n",
      "meyem\n"
     ]
    }
   ],
   "source": [
    "#42. Implement a function to find the longest palindrome substring in a given string.\n",
    "\n",
    "def longestPalindrome(s):\n",
    "        p = ''\n",
    "        for i in range(len(s)):\n",
    "            p1 = get_palindrome(s, i, i+1)\n",
    "            p2 = get_palindrome(s, i, i)\n",
    "            p = max([p, p1, p2], key=len)\n",
    "        return p\n",
    "    \n",
    "def get_palindrome(s, l, r):\n",
    "        while l >= 0 and r < len(s) and s[l] == s[r]:\n",
    "            l -= 1\n",
    "            r += 1\n",
    "        return s[l+1:r]\n",
    "    \n",
    "print(longestPalindrome(\"abcdemadamabc\"))\n",
    "print(longestPalindrome(\"plameyemsdnnjcd\"))"
   ]
  },
  {
   "cell_type": "code",
   "execution_count": 116,
   "id": "4082eec5",
   "metadata": {},
   "outputs": [
    {
     "name": "stdout",
     "output_type": "stream",
     "text": [
      "6\n",
      "5\n"
     ]
    }
   ],
   "source": [
    "#43. Write a program to find the number of occurrences of a given element in a list.\n",
    "\n",
    "def occ(nums,ele):\n",
    "    c=0\n",
    "    for i in nums:\n",
    "        if ele == i:\n",
    "            c = c+1\n",
    "    return c\n",
    "\n",
    "print(occ([1,2,3,4,5,4,3,2,1,2,3,4,5,6,7,6,5,4,5,4,5,4,8] , 4))\n",
    "print(occ([1,2,3,4,5,4,3,2,1,2,3,4,5,6,7,6,5,4,5,4,5,4,8] , 5))"
   ]
  },
  {
   "cell_type": "code",
   "execution_count": 120,
   "id": "82c9e401",
   "metadata": {},
   "outputs": [
    {
     "name": "stdout",
     "output_type": "stream",
     "text": [
      "True\n",
      "False\n",
      "True\n"
     ]
    }
   ],
   "source": [
    "#44. Implement a function to check if a given number is a perfect number.\n",
    "\n",
    "def is_perfect_number(num):\n",
    "    if num <= 0:\n",
    "        return False\n",
    "\n",
    "    divs = []\n",
    "    for i in range(1, num):\n",
    "        if num % i == 0:\n",
    "            divs.append(i)\n",
    "\n",
    "    if sum(divs) == num:\n",
    "        return True\n",
    "    else:\n",
    "        return False\n",
    "    \n",
    "print(is_perfect_number(28))\n",
    "print(is_perfect_number(159)) \n",
    "print(is_perfect_number(496)) "
   ]
  },
  {
   "cell_type": "code",
   "execution_count": 121,
   "id": "5c085b13",
   "metadata": {},
   "outputs": [
    {
     "name": "stdout",
     "output_type": "stream",
     "text": [
      "abcdems\n"
     ]
    }
   ],
   "source": [
    "#45. Write a Python program to remove all duplicates from a string.\n",
    "\n",
    "def remove_duplicates(string):\n",
    "    unique_chars = []\n",
    "    for char in string:\n",
    "        if char not in unique_chars:\n",
    "            unique_chars.append(char)\n",
    "    return ''.join(unique_chars)\n",
    "\n",
    "print(remove_duplicates(\"aaabbbbccccdddeeeeemmmmmsssss\"))"
   ]
  },
  {
   "cell_type": "code",
   "execution_count": 122,
   "id": "66625172",
   "metadata": {},
   "outputs": [
    {
     "name": "stdout",
     "output_type": "stream",
     "text": [
      "3\n"
     ]
    }
   ],
   "source": [
    "#46. Implement a function to find the first missing positive\n",
    "\n",
    "def find_first_missing_positive(nums):\n",
    "    n = len(nums)\n",
    "\n",
    "    # Step 1: Mark non-positive integers as \"n+1\"\n",
    "    for i in range(n):\n",
    "        if nums[i] <= 0:\n",
    "            nums[i] = n + 1\n",
    "\n",
    "    # Step 2: Mark the presence of positive integers within the range [1, n]\n",
    "    for i in range(n):\n",
    "        num = abs(nums[i])\n",
    "        if num <= n:\n",
    "            nums[num - 1] = -abs(nums[num - 1])\n",
    "\n",
    "    # Step 3: Find the first positive number\n",
    "    for i in range(n):\n",
    "        if nums[i] > 0:\n",
    "            return i + 1\n",
    "\n",
    "    # Step 4: If all positive numbers within the range [1, n] are present, the first missing positive is n+1\n",
    "    return n + 1\n",
    "\n",
    "print(find_first_missing_positive([1,2,4,5,6,7,8,9]))"
   ]
  }
 ],
 "metadata": {
  "kernelspec": {
   "display_name": "Python 3",
   "language": "python",
   "name": "python3"
  },
  "language_info": {
   "codemirror_mode": {
    "name": "ipython",
    "version": 3
   },
   "file_extension": ".py",
   "mimetype": "text/x-python",
   "name": "python",
   "nbconvert_exporter": "python",
   "pygments_lexer": "ipython3",
   "version": "3.8.8"
  }
 },
 "nbformat": 4,
 "nbformat_minor": 5
}
