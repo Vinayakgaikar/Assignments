{
 "cells": [
  {
   "cell_type": "code",
   "execution_count": 10,
   "metadata": {},
   "outputs": [
    {
     "data": {
      "text/plain": [
       "'It is relative to the program’s current working directory.'"
      ]
     },
     "execution_count": 10,
     "metadata": {},
     "output_type": "execute_result"
    }
   ],
   "source": [
    "#Q1 To what does a relative path refer?\n",
    "\"\"\"It is relative to the program’s current working directory.\"\"\""
   ]
  },
  {
   "cell_type": "code",
   "execution_count": 11,
   "metadata": {},
   "outputs": [
    {
     "data": {
      "text/plain": [
       "'Always with the root folder (in Windows ‘C:\\\\’'"
      ]
     },
     "execution_count": 11,
     "metadata": {},
     "output_type": "execute_result"
    }
   ],
   "source": [
    "#Q2  What does an absolute path start with your operating system?\n",
    "\"\"\"Always with the root folder (in Windows ‘C:\\’\"\"\""
   ]
  },
  {
   "cell_type": "code",
   "execution_count": 16,
   "metadata": {},
   "outputs": [
    {
     "data": {
      "text/plain": [
       "'os.getcwd() gets the current working directory as a string value    &     os.chdir() allows you to change the current working directory'"
      ]
     },
     "execution_count": 16,
     "metadata": {},
     "output_type": "execute_result"
    }
   ],
   "source": [
    "#Q3 What do the functions os.getcwd() and os.chdir() do?\n",
    "\"\"\"os.getcwd() gets the current working directory as a string value    &     os.chdir() allows you to change the current working directory\"\"\""
   ]
  },
  {
   "cell_type": "code",
   "execution_count": 17,
   "metadata": {},
   "outputs": [
    {
     "data": {
      "text/plain": [
       "'(.) is shorthand for “this directory” & (..) is shorthand for “the parent directory’'"
      ]
     },
     "execution_count": 17,
     "metadata": {},
     "output_type": "execute_result"
    }
   ],
   "source": [
    "#Q4 What are the . and .. folders?\n",
    "\"\"\"(.) is shorthand for “this directory” & (..) is shorthand for “the parent directory’\"\"\""
   ]
  },
  {
   "cell_type": "code",
   "execution_count": 18,
   "metadata": {},
   "outputs": [
    {
     "data": {
      "text/plain": [
       "'dir name = C:\\x08acon\\\\eggs base (or file) name = spam.txt '"
      ]
     },
     "execution_count": 18,
     "metadata": {},
     "output_type": "execute_result"
    }
   ],
   "source": [
    "#Q5 In C:\\bacon\\eggs\\spam.txt, which part is the dir name, and which part is the base name?\n",
    "\"\"\"dir name = C:\\bacon\\eggs base (or file) name = spam.txt \"\"\""
   ]
  },
  {
   "cell_type": "code",
   "execution_count": 19,
   "metadata": {},
   "outputs": [
    {
     "data": {
      "text/plain": [
       "' read/readlines, write, and append'"
      ]
     },
     "execution_count": 19,
     "metadata": {},
     "output_type": "execute_result"
    }
   ],
   "source": [
    "#Q6 What are the three “mode’ arguments that can be passed to the open() function?\n",
    "\"\"\" read/readlines, write, and append\"\"\""
   ]
  },
  {
   "cell_type": "code",
   "execution_count": 20,
   "metadata": {},
   "outputs": [
    {
     "data": {
      "text/plain": [
       "' It overwrites the existing file and starts from scratch '"
      ]
     },
     "execution_count": 20,
     "metadata": {},
     "output_type": "execute_result"
    }
   ],
   "source": [
    "#Q7 What happens if an existing file is opened in write mode?\n",
    "\"\"\" It overwrites the existing file and starts from scratch \"\"\""
   ]
  },
  {
   "cell_type": "code",
   "execution_count": 21,
   "metadata": {},
   "outputs": [
    {
     "data": {
      "text/plain": [
       "' The read() method passes the entire file as a string The readlines() method provides a list of string values - one string for each line of text.'"
      ]
     },
     "execution_count": 21,
     "metadata": {},
     "output_type": "execute_result"
    }
   ],
   "source": [
    "#Q8 What is the difference between the read() and readlines() methods?\n",
    "\"\"\" The read() method passes the entire file as a string The readlines() method provides a list of string values - one string for each line of text.\"\"\""
   ]
  },
  {
   "cell_type": "code",
   "execution_count": 22,
   "metadata": {},
   "outputs": [
    {
     "data": {
      "text/plain": [
       "' Resembles a dictionary'"
      ]
     },
     "execution_count": 22,
     "metadata": {},
     "output_type": "execute_result"
    }
   ],
   "source": [
    "#Q9 What data structure does a shelf value resemble?\n",
    "\"\"\" Resembles a dictionary\"\"\""
   ]
  }
 ],
 "metadata": {
  "kernelspec": {
   "display_name": "Python 3",
   "language": "python",
   "name": "python3"
  },
  "language_info": {
   "codemirror_mode": {
    "name": "ipython",
    "version": 3
   },
   "file_extension": ".py",
   "mimetype": "text/x-python",
   "name": "python",
   "nbconvert_exporter": "python",
   "pygments_lexer": "ipython3",
   "version": "3.8.5"
  }
 },
 "nbformat": 4,
 "nbformat_minor": 4
}
