{
 "cells": [
  {
   "cell_type": "code",
   "execution_count": null,
   "id": "ea061249",
   "metadata": {},
   "outputs": [],
   "source": [
    "#Q1\n",
    "\n",
    "Functions reduce the need for duplicate code. \n",
    "This makes programs shorter, easier to read, and easier to update.3"
   ]
  },
  {
   "cell_type": "code",
   "execution_count": null,
   "id": "aa696558",
   "metadata": {},
   "outputs": [],
   "source": [
    "#Q2\n",
    "\n",
    "\"When it's specified\""
   ]
  },
  {
   "cell_type": "code",
   "execution_count": null,
   "id": "c5d810d1",
   "metadata": {},
   "outputs": [],
   "source": [
    "#Q3\n",
    "\n",
    "def"
   ]
  },
  {
   "cell_type": "code",
   "execution_count": null,
   "id": "5d7ca73c",
   "metadata": {},
   "outputs": [],
   "source": [
    "#Q4\n",
    "\n",
    "A function is procedure to achieve a particular result while function call is using this function to achive that task."
   ]
  },
  {
   "cell_type": "code",
   "execution_count": null,
   "id": "271e6511",
   "metadata": {},
   "outputs": [],
   "source": [
    "#Q5\n",
    "\n",
    "There is only one global scope."
   ]
  },
  {
   "cell_type": "code",
   "execution_count": null,
   "id": "0f5f8f52",
   "metadata": {},
   "outputs": [],
   "source": [
    "#Q6\n",
    "\n",
    "When the execution of the function terminates (returns), the local variables are destroyed.\n",
    "So it is not possible for a function to set some local variable to a value, complete its \n",
    "execution, and then when it is called again next time, recover the local variable."
   ]
  },
  {
   "cell_type": "code",
   "execution_count": null,
   "id": "169faded",
   "metadata": {},
   "outputs": [],
   "source": [
    "#Q7\n",
    "\n",
    "A return statement is used to end the execution of the function call and “returns” the result to the caller. \n",
    "The statements after the return statements are not executed. If the return statement is without any expression, then the special value None is returned.\n",
    "Yes, Is it possible to have a return value in an expression."
   ]
  },
  {
   "cell_type": "code",
   "execution_count": null,
   "id": "16a4b752",
   "metadata": {},
   "outputs": [],
   "source": [
    "#Q8\n",
    "\n",
    "If no return statement appears in a function definition, control automatically returns to the calling function after the last statement of the called function is executed. \n",
    "In this case, the return value of the called function is undefined."
   ]
  },
  {
   "cell_type": "code",
   "execution_count": null,
   "id": "d49adbf6",
   "metadata": {},
   "outputs": [],
   "source": [
    "#Q9\n",
    "\n",
    "If you want to refer to a global variable in a function,\n",
    "you can use the global keyword to declare which variables are global.\n"
   ]
  },
  {
   "cell_type": "code",
   "execution_count": null,
   "id": "c566139a",
   "metadata": {},
   "outputs": [],
   "source": [
    "#Q10\n",
    "\n",
    "None is used to define a null value. It is not the same as an empty string, False, or a zero.\n",
    "It is a data type of the class NoneType object."
   ]
  },
  {
   "cell_type": "code",
   "execution_count": 2,
   "id": "80f8294e",
   "metadata": {},
   "outputs": [],
   "source": [
    "#Q11\n",
    "\n"
   ]
  },
  {
   "cell_type": "code",
   "execution_count": null,
   "id": "6a22b3d9",
   "metadata": {},
   "outputs": [],
   "source": [
    "#Q12\n",
    "\n",
    "spam.bacon()"
   ]
  },
  {
   "cell_type": "code",
   "execution_count": null,
   "id": "ea037856",
   "metadata": {},
   "outputs": [],
   "source": [
    "#Q13\n",
    "\n",
    "debugging errors"
   ]
  },
  {
   "cell_type": "code",
   "execution_count": null,
   "id": "06745e38",
   "metadata": {},
   "outputs": [],
   "source": [
    "#Q14\n",
    "\n",
    "The try block is used to check some code for errors \n",
    "i.e the code inside the try block will execute when there is no error in the program.\n",
    "Whereas the code inside the except block will execute whenever the program encounters some error in the preceding try block."
   ]
  }
 ],
 "metadata": {
  "kernelspec": {
   "display_name": "Python 3",
   "language": "python",
   "name": "python3"
  },
  "language_info": {
   "codemirror_mode": {
    "name": "ipython",
    "version": 3
   },
   "file_extension": ".py",
   "mimetype": "text/x-python",
   "name": "python",
   "nbconvert_exporter": "python",
   "pygments_lexer": "ipython3",
   "version": "3.8.8"
  }
 },
 "nbformat": 4,
 "nbformat_minor": 5
}
